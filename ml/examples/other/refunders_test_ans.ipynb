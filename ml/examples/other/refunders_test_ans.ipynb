{
 "cells": [
  {
   "cell_type": "markdown",
   "metadata": {
    "ExecuteTime": {
     "end_time": "2018-10-15T06:11:24.276148Z",
     "start_time": "2018-10-15T06:11:24.272680Z"
    }
   },
   "source": [
    "## Refunders Basic Tests"
   ]
  },
  {
   "cell_type": "markdown",
   "metadata": {
    "ExecuteTime": {
     "end_time": "2018-10-15T06:12:44.103202Z",
     "start_time": "2018-10-15T06:12:44.099300Z"
    }
   },
   "source": [
    "### Imports and Globals"
   ]
  },
  {
   "cell_type": "code",
   "execution_count": 160,
   "metadata": {
    "ExecuteTime": {
     "end_time": "2018-10-15T14:23:57.280518Z",
     "start_time": "2018-10-15T14:23:55.707869Z"
    }
   },
   "outputs": [],
   "source": [
    "import os\n",
    "import sys\n",
    "import numpy as np\n",
    "import pandas as pd\n",
    "import matplotlib.pyplot as plt\n",
    "import matplotlib.pyplot as plt\n",
    "import matplotlib.dates as mdates\n",
    "\n",
    "from datetime import datetime\n",
    "# from ds_utils.utils.set_env import set_ds_env\n",
    "# from ds_utils.utils.spark_helpers import get_spark_conf, get_spark_context\n",
    "\n",
    "# set_ds_env()\n",
    "\n",
    "# from pyspark import SparkConf, SparkContext\n",
    "# from pyspark.sql import functions as F\n",
    "# from pyspark.sql import HiveContext, SparkSession\n",
    "\n",
    "from sklearn.neighbors import KNeighborsClassifier\n",
    "from sklearn.ensemble import RandomForestClassifier\n",
    "from sklearn.metrics import roc_auc_score, precision_score, recall_score, f1_score\n",
    "from sklearn.preprocessing import StandardScaler\n",
    "from sklearn.pipeline import Pipeline\n",
    "from sklearn.model_selection import (GridSearchCV, \n",
    "                                     StratifiedKFold, \n",
    "                                     cross_val_score, \n",
    "                                     train_test_split)\n",
    "\n",
    "# from ds_etl.data_sources.admin_tool import AdminTool"
   ]
  },
  {
   "cell_type": "code",
   "execution_count": 2,
   "metadata": {
    "ExecuteTime": {
     "end_time": "2018-10-15T14:23:57.292484Z",
     "start_time": "2018-10-15T14:23:57.283908Z"
    },
    "collapsed": true
   },
   "outputs": [],
   "source": [
    "SMALL_SIZE  = 14\n",
    "MEDIUM_SIZE = 16\n",
    "BIGGER_SIZE = 18\n",
    "\n",
    "plt.rc('font', size=SMALL_SIZE)          # controls default text sizes\n",
    "plt.rc('axes', titlesize=SMALL_SIZE)     # fontsize of the axes title\n",
    "plt.rc('axes', labelsize=MEDIUM_SIZE)    # fontsize of the x and y labels\n",
    "plt.rc('xtick', labelsize=SMALL_SIZE)    # fontsize of the tick labels\n",
    "plt.rc('ytick', labelsize=SMALL_SIZE)    # fontsize of the tick labels\n",
    "plt.rc('legend', fontsize=SMALL_SIZE)    # legend fontsize\n",
    "plt.rc('figure', titlesize=BIGGER_SIZE)  # fontsize of the figure title\n",
    "\n",
    "FIGSIZE_TWO_PLOTS = (10, 6)\n",
    "FIGSIZE_ONE_PLOT  = (8, 6)"
   ]
  },
  {
   "cell_type": "code",
   "execution_count": 3,
   "metadata": {
    "ExecuteTime": {
     "end_time": "2018-10-15T14:23:57.301480Z",
     "start_time": "2018-10-15T14:23:57.295506Z"
    },
    "collapsed": true
   },
   "outputs": [],
   "source": [
    "VIKINGS_FACT_TABLE = 'vikings.fact_vikings_krd_1_'\n",
    "VIKINGS_DIM_DICT   = 'vikings.dim_krd_1'\n",
    "FEATURES_TABLE     = 'vikings_trans.features_all'\n",
    "\n",
    "SINCE_DATE = '2016-01-01'\n",
    "LAST_DATE  = '2018-10-10'\n",
    "SINCE_GOOD_DATE = '2017-01-01'\n",
    "THRESHOLD_PCT = 60"
   ]
  },
  {
   "cell_type": "code",
   "execution_count": 5,
   "metadata": {
    "ExecuteTime": {
     "end_time": "2018-10-15T14:24:15.172327Z",
     "start_time": "2018-10-15T14:23:57.305177Z"
    }
   },
   "outputs": [],
   "source": [
    "# if 'sc' in locals():\n",
    "#     sc.stop()\n",
    "# if 'spark' in locals():\n",
    "#     spark.stop()\n",
    "    \n",
    "# conf = SparkConf().setMaster(\"yarn\").setAll([\n",
    "#     ('spark.app.name', 'tmp_notebook'),\n",
    "#     ('spark.executor.cores', '1'),\n",
    "#     ('spark.executor.memory', '1g'),\n",
    "#     ('spark.driver.memory', '32g'),\n",
    "#     ('spark.dynamicAllocation.maxExecutors', '80'),\n",
    "#     ('spark.dynamicAllocation.enabled', 'true'),\n",
    "#     ('spark.shuffle.service.enabled', 'true'),\n",
    "#     ('spark.driver.maxResultSize', '32g'),\n",
    "#     ('spark.sql.hive.convertMetastoreOrc', 'false')\n",
    "# ])\n",
    "\n",
    "# sc = SparkContext(conf=conf)\n",
    "# sqlContext = HiveContext(sc)\n",
    "# spark = SparkSession(sc)"
   ]
  },
  {
   "cell_type": "markdown",
   "metadata": {
    "ExecuteTime": {
     "end_time": "2018-10-15T05:46:38.878531Z",
     "start_time": "2018-10-15T05:46:21.680488Z"
    },
    "scrolled": true
   },
   "source": [
    "### Utils"
   ]
  },
  {
   "cell_type": "markdown",
   "metadata": {},
   "source": [
    "#### get_dim_dict"
   ]
  },
  {
   "cell_type": "code",
   "execution_count": 5,
   "metadata": {
    "ExecuteTime": {
     "end_time": "2018-10-15T14:24:15.178547Z",
     "start_time": "2018-10-15T14:24:15.175263Z"
    },
    "collapsed": true
   },
   "outputs": [],
   "source": [
    "# def get_dim_dict():\n",
    "#     return spark.sql('select * from {}'.format(VIKINGS_DIM_DICT)).toPandas()"
   ]
  },
  {
   "cell_type": "markdown",
   "metadata": {},
   "source": [
    "#### ensure_refund_offers"
   ]
  },
  {
   "cell_type": "code",
   "execution_count": 6,
   "metadata": {
    "ExecuteTime": {
     "end_time": "2018-10-15T14:24:15.188530Z",
     "start_time": "2018-10-15T14:24:15.181347Z"
    },
    "collapsed": true
   },
   "outputs": [],
   "source": [
    "def ensure_refund_offers(since):\n",
    "    fpath = 'refund_offers_{0}.csv'.format(since)\n",
    "    return pd.read_csv(fpath)"
   ]
  },
  {
   "cell_type": "markdown",
   "metadata": {},
   "source": [
    "#### ensure_refunds"
   ]
  },
  {
   "cell_type": "code",
   "execution_count": 7,
   "metadata": {
    "ExecuteTime": {
     "end_time": "2018-10-15T14:24:15.195344Z",
     "start_time": "2018-10-15T14:24:15.190644Z"
    },
    "collapsed": true
   },
   "outputs": [],
   "source": [
    "def ensure_refunds(since):\n",
    "    fpath = 'refunds_{0}.csv'.format(since)\n",
    "    return pd.read_csv(fpath, parse_dates=['date'])"
   ]
  },
  {
   "cell_type": "markdown",
   "metadata": {},
   "source": [
    "#### ensure_transactions"
   ]
  },
  {
   "cell_type": "code",
   "execution_count": 8,
   "metadata": {
    "ExecuteTime": {
     "end_time": "2018-10-15T14:24:15.202856Z",
     "start_time": "2018-10-15T14:24:15.197332Z"
    },
    "collapsed": true
   },
   "outputs": [],
   "source": [
    "def ensure_transactions(since):\n",
    "    fpath = 'transactions_{0}.csv'.format(since)\n",
    "    return pd.read_csv(fpath, parse_dates=['date'])"
   ]
  },
  {
   "cell_type": "markdown",
   "metadata": {},
   "source": [
    "#### ensure_good_payment_history"
   ]
  },
  {
   "cell_type": "code",
   "execution_count": 9,
   "metadata": {
    "ExecuteTime": {
     "end_time": "2018-10-15T14:24:15.215005Z",
     "start_time": "2018-10-15T14:24:15.204960Z"
    },
    "collapsed": true
   },
   "outputs": [],
   "source": [
    "def ensure_good_payment_history(since, limit):\n",
    "    fpath = 'good_payment_history_{0}_{1}.csv'.format(since, limit)\n",
    "    pay_df = pd.read_csv(fpath, parse_dates=['date']).reset_index(drop=True)\n",
    "    agg_df = get_agg(pay_df).reset_index(drop=True)\n",
    "    return pay_df, agg_df"
   ]
  },
  {
   "cell_type": "markdown",
   "metadata": {},
   "source": [
    "#### ensure_payment_history"
   ]
  },
  {
   "cell_type": "code",
   "execution_count": 10,
   "metadata": {
    "ExecuteTime": {
     "end_time": "2018-10-15T14:24:15.230827Z",
     "start_time": "2018-10-15T14:24:15.217702Z"
    },
    "collapsed": true
   },
   "outputs": [],
   "source": [
    "def ensure_payment_history(since):\n",
    "    fpath = 'payment_history_{0}.csv'.format(since)\n",
    "    pay_df = pd.read_csv(fpath, parse_dates=['date']).reset_index(drop=True)\n",
    "    agg_df = get_agg(pay_df).reset_index(drop=True)\n",
    "    return pay_df, agg_df"
   ]
  },
  {
   "cell_type": "markdown",
   "metadata": {},
   "source": [
    "#### get_agg"
   ]
  },
  {
   "cell_type": "code",
   "execution_count": 89,
   "metadata": {
    "ExecuteTime": {
     "end_time": "2018-10-15T14:24:15.240253Z",
     "start_time": "2018-10-15T14:24:15.233373Z"
    },
    "collapsed": true
   },
   "outputs": [],
   "source": [
    "def get_agg(df):\n",
    "    refunds_df = df[df['type'] == 1]\n",
    "    trans_df = df[df['type'] == 0]\n",
    "\n",
    "    if len(refunds_df) == 0:\n",
    "        agg_df = trans_df.groupby('userid').agg({'value': 'sum'})\n",
    "        agg_df['refund'] = 0.0\n",
    "        agg_df.rename(columns={'value': 'spent'}, inplace=True)\n",
    "        agg_df.index.name = None\n",
    "        agg_df['userid'] = agg_df.index.values.astype(int)\n",
    "    else:\n",
    "        tdf = trans_df.groupby('userid').agg({'value': 'sum'})\n",
    "        tdf.index.name = None\n",
    "        tdf['userid'] = tdf.index.values.astype(int)\n",
    "        rdf = refunds_df.groupby('userid').agg({'value': 'sum'})\n",
    "        rdf.index.name = None\n",
    "        rdf['userid'] = rdf.index.values.astype(int)\n",
    "        agg_df = pd.merge(tdf, rdf, on='userid', how='left').fillna(0.0)\n",
    "        agg_df.columns = ['spent', 'userid', 'refund']\n",
    "        \n",
    "    agg_df['pct'] = 100 * agg_df['refund'] / agg_df['spent']\n",
    "    agg_df['userid'] = agg_df['userid'].astype(int)\n",
    "\n",
    "    stat_df = pd.read_csv('login_stats.csv', parse_dates=['first_login', 'last_login'])\n",
    "    stat_df['userid'] = stat_df['userid'].astype(int)\n",
    "    # todo: other stats...\n",
    "    \n",
    "    agg_df = pd.merge(agg_df, stat_df,\n",
    "                      on='userid',\n",
    "                      how='left')\n",
    "\n",
    "    return agg_df"
   ]
  },
  {
   "cell_type": "markdown",
   "metadata": {},
   "source": [
    "#### normalize_user_dates"
   ]
  },
  {
   "cell_type": "code",
   "execution_count": 12,
   "metadata": {
    "ExecuteTime": {
     "end_time": "2018-10-15T14:24:15.247981Z",
     "start_time": "2018-10-15T14:24:15.242587Z"
    },
    "collapsed": true
   },
   "outputs": [],
   "source": [
    "def normalize_user_dates(user_df, from_date, to_date):\n",
    "    user_id = user_df['userid'].values[0]\n",
    "    min_date = from_date\n",
    "    max_date = max(to_date, user_df['date'].max())\n",
    "    dates = list(pd.date_range(min_date, max_date))\n",
    "\n",
    "    user_df = user_df[(min_date <= user_df['date']) &\n",
    "                      (user_df['date'] <= max_date)]\n",
    "\n",
    "    norm_df = pd.DataFrame({'date': dates})\n",
    "    norm_df = pd.merge(norm_df, user_df, on='date', how='left', sort=True)\n",
    "    norm_df.fillna(0, inplace=True)\n",
    "    norm_df['userid'] = user_id\n",
    "    norm_df['type'] = norm_df['type'].astype(int)\n",
    "    norm_df['cnt'] = norm_df['cnt'].astype(int)\n",
    "\n",
    "    return norm_df"
   ]
  },
  {
   "cell_type": "markdown",
   "metadata": {},
   "source": [
    "#### ensure_login_stats"
   ]
  },
  {
   "cell_type": "markdown",
   "metadata": {},
   "source": [
    "#### visualize_pay_history"
   ]
  },
  {
   "cell_type": "code",
   "execution_count": 14,
   "metadata": {
    "ExecuteTime": {
     "end_time": "2018-10-15T15:11:57.825996Z",
     "start_time": "2018-10-15T15:11:57.818126Z"
    },
    "collapsed": true
   },
   "outputs": [],
   "source": [
    "def visualize_pay_history(user_df, user_ag, axis, title):\n",
    "    user_id = user_df['userid'].values[0]\n",
    "    norm_df = normalize_user_dates(user_df, user_ag['first_login'], user_ag['last_login'])\n",
    "\n",
    "    x = norm_df['date'].values\n",
    "    y = norm_df['value']*(1 - 2*norm_df['type']).values\n",
    "\n",
    "    axis.plot(x, y)\n",
    "        \n",
    "    axis.grid(True)\n",
    "    axis.xaxis.set_major_formatter(mdates.DateFormatter('%b %y'))\n",
    "    axis.xaxis.set_major_locator(mdates.MonthLocator(interval=1))\n",
    "    axis.xaxis.set_minor_locator(mdates.DayLocator(interval=1))\n",
    "    axis.set_title('{0} ({1})'.format(user_id, title))"
   ]
  },
  {
   "cell_type": "markdown",
   "metadata": {},
   "source": [
    "#### DTW"
   ]
  },
  {
   "cell_type": "code",
   "execution_count": 203,
   "metadata": {
    "ExecuteTime": {
     "end_time": "2018-10-15T14:24:15.273661Z",
     "start_time": "2018-10-15T14:24:15.256447Z"
    },
    "collapsed": true
   },
   "outputs": [],
   "source": [
    "from numpy import array, zeros, argmin, inf, ndim\n",
    "from scipy.spatial.distance import cdist\n",
    "\n",
    "def dtw(x, y, warp=1):\n",
    "    \"\"\"\n",
    "    Computes Dynamic Time Warping (DTW) of two sequences.\n",
    "    :param array x: N1*M array\n",
    "    :param array y: N2*M array\n",
    "    :param int warp: how many shifts are computed.\n",
    "    Returns the minimum distance, the cost matrix, the accumulated cost matrix, and the wrap path.\n",
    "    \"\"\"\n",
    "\n",
    "    r, c = len(x), len(y)\n",
    "    D0 = zeros((r + 1, c + 1))\n",
    "    D0[0, 1:] = inf\n",
    "    D0[1:, 0] = inf\n",
    "\n",
    "    D1 = D0[1:, 1:]  # view\n",
    "    \n",
    "    for i in range(r):\n",
    "        for j in range(c):\n",
    "            D1[i, j] = abs(x[i] - y[j])\n",
    "    C = D1.copy()\n",
    "\n",
    "    for i in range(r):\n",
    "        for j in range(c):\n",
    "            min_list = [D0[i, j]]\n",
    "            for k in range(1, warp + 1):\n",
    "                i_k = min(i + k, r - 1)\n",
    "                j_k = min(j + k, c - 1)\n",
    "                min_list += [D0[i_k, j], D0[i, j_k]]\n",
    "            D1[i, j] += min(min_list)\n",
    "\n",
    "    if len(x)==1:\n",
    "        path = zeros(len(y)), range(len(y))\n",
    "    elif len(y) == 1:\n",
    "        path = range(len(x)), zeros(len(x))\n",
    "    else:\n",
    "        path = _traceback(D0)\n",
    "\n",
    "    return D1[-1, -1] / sum(D1.shape), C, D1, path\n",
    "\n",
    "\n",
    "def accelerated_dtw(x, y, dist, warp=1):\n",
    "    \"\"\"\n",
    "    Computes Dynamic Time Warping (DTW) of two sequences in a faster way.\n",
    "    Instead of iterating through each element and calculating each distance,\n",
    "    this uses the cdist function from scipy (https://docs.scipy.org/doc/scipy/reference/generated/scipy.spatial.distance.cdist.html)\n",
    "    :param array x: N1*M array\n",
    "    :param array y: N2*M array\n",
    "    :param string or func dist: distance parameter for cdist. When string is given, cdist uses optimized functions for the distance metrics.\n",
    "    If a string is passed, the distance function can be 'braycurtis', 'canberra', 'chebyshev', 'cityblock', 'correlation', 'cosine', 'dice', 'euclidean', 'hamming', 'jaccard', 'kulsinski', 'mahalanobis', 'matching', 'minkowski', 'rogerstanimoto', 'russellrao', 'seuclidean', 'sokalmichener', 'sokalsneath', 'sqeuclidean', 'wminkowski', 'yule'.\n",
    "    :param int warp: how many shifts are computed.\n",
    "    Returns the minimum distance, the cost matrix, the accumulated cost matrix, and the wrap path.\n",
    "    \"\"\"\n",
    "    assert len(x)\n",
    "    assert len(y)\n",
    "    if ndim(x) == 1:\n",
    "        x = x.reshape(-1, 1)\n",
    "    if ndim(y) == 1:\n",
    "        y = y.reshape(-1, 1)\n",
    "    r, c = len(x), len(y)\n",
    "    D0 = zeros((r + 1, c + 1))\n",
    "    D0[0, 1:] = inf\n",
    "    D0[1:, 0] = inf\n",
    "    D1 = D0[1:, 1:]\n",
    "    D0[1:, 1:] = cdist(x, y, dist)\n",
    "    C = D1.copy()\n",
    "    for i in range(r):\n",
    "        for j in range(c):\n",
    "            min_list = [D0[i, j]]\n",
    "            for k in range(1, warp + 1):\n",
    "                min_list += [D0[min(i + k, r - 1), j],\n",
    "                             D0[i, min(j + k, c - 1)]]\n",
    "            D1[i, j] += min(min_list)\n",
    "    if len(x) == 1:\n",
    "        path = zeros(len(y)), range(len(y))\n",
    "    elif len(y) == 1:\n",
    "        path = range(len(x)), zeros(len(x))\n",
    "    else:\n",
    "        path = _traceback(D0)\n",
    "    return D1[-1, -1] / sum(D1.shape), C, D1, path\n",
    "\n",
    "\n",
    "def _traceback(D):\n",
    "    i, j = array(D.shape) - 2\n",
    "    p, q = [i], [j]\n",
    "    while (i > 0) or (j > 0):\n",
    "        tb = argmin((D[i, j], D[i, j+1], D[i+1, j]))\n",
    "        if tb == 0:\n",
    "            i -= 1\n",
    "            j -= 1\n",
    "        elif tb == 1:\n",
    "            i -= 1\n",
    "        else:  # (tb == 2):\n",
    "            j -= 1\n",
    "        p.insert(0, i)\n",
    "        q.insert(0, j)\n",
    "    return array(p), array(q)"
   ]
  },
  {
   "cell_type": "code",
   "execution_count": 16,
   "metadata": {
    "ExecuteTime": {
     "end_time": "2018-10-15T14:24:15.285611Z",
     "start_time": "2018-10-15T14:24:15.276334Z"
    },
    "collapsed": true
   },
   "outputs": [],
   "source": [
    "from sklearn.base import BaseEstimator, ClusterMixin\n",
    "\n",
    "class SimpleClusterizer(BaseEstimator, ClusterMixin):\n",
    "    def __init__(self, dist, random_state=None):\n",
    "        self.dist = dist\n",
    "        self.random_state = random_state\n",
    "        self._labels = None\n",
    "        self._clusters = None\n",
    "\n",
    "\n",
    "    def fit(self, X, y):\n",
    "        labels = np.unique(y[y != np.array(None)])\n",
    "\n",
    "        clusters = { l: list(X[y==l]) for l in labels }\n",
    "\n",
    "        X_unm = X[y==None]\n",
    "        np.random.seed(self.random_state)\n",
    "        np.random.shuffle(X_unm)\n",
    "\n",
    "        self.log = []\n",
    "\n",
    "        for x in X_unm:\n",
    "            label = None\n",
    "            dist = np.inf\n",
    "            for l in labels:\n",
    "                cluster = clusters[l]\n",
    "                d = self._get_dist(x, cluster)\n",
    "                if d < dist:\n",
    "                    dist = d\n",
    "                    label = l\n",
    "            clusters[label].append(x)\n",
    "            self.log.append(x)\n",
    "\n",
    "        self._clusters = clusters\n",
    "        self._labels = labels\n",
    "\n",
    "\n",
    "    def predict(self, X):\n",
    "        y = []\n",
    "        for x in X:\n",
    "            label = None\n",
    "            dist = np.inf\n",
    "            for l in self._labels:\n",
    "                cluster = self._clusters[l]\n",
    "                d = self._get_dist(x, cluster)\n",
    "                if d < dist:\n",
    "                    dist = d\n",
    "                    label = l\n",
    "            y.append(label)\n",
    "        return y\n",
    "\n",
    "\n",
    "    def _get_dist(self, x, cluster):\n",
    "        dist = np.inf\n",
    "        for xc in cluster:\n",
    "            d = self.dist(x, xc)\n",
    "            if d < dist:\n",
    "                dist = d\n",
    "        #dist = np.array([self.dist(x, xc) for xc in cluster]).mean()\n",
    "        return dist"
   ]
  },
  {
   "cell_type": "markdown",
   "metadata": {},
   "source": [
    "### Good users to compare with"
   ]
  },
  {
   "cell_type": "code",
   "execution_count": 90,
   "metadata": {
    "ExecuteTime": {
     "end_time": "2018-10-15T14:24:17.394036Z",
     "start_time": "2018-10-15T14:24:15.287642Z"
    },
    "scrolled": true
   },
   "outputs": [
    {
     "data": {
      "text/plain": [
       "(1269947, 5)"
      ]
     },
     "execution_count": 90,
     "metadata": {},
     "output_type": "execute_result"
    }
   ],
   "source": [
    "gpay_df, gagg_df = ensure_good_payment_history(SINCE_DATE, 100000)\n",
    "gpay_df.shape"
   ]
  },
  {
   "cell_type": "code",
   "execution_count": 91,
   "metadata": {
    "ExecuteTime": {
     "end_time": "2018-10-15T14:24:17.433378Z",
     "start_time": "2018-10-15T14:24:17.399084Z"
    }
   },
   "outputs": [
    {
     "data": {
      "text/html": [
       "<div>\n",
       "<style>\n",
       "    .dataframe thead tr:only-child th {\n",
       "        text-align: right;\n",
       "    }\n",
       "\n",
       "    .dataframe thead th {\n",
       "        text-align: left;\n",
       "    }\n",
       "\n",
       "    .dataframe tbody tr th {\n",
       "        vertical-align: top;\n",
       "    }\n",
       "</style>\n",
       "<table border=\"1\" class=\"dataframe\">\n",
       "  <thead>\n",
       "    <tr style=\"text-align: right;\">\n",
       "      <th></th>\n",
       "      <th>spent</th>\n",
       "      <th>refund</th>\n",
       "      <th>userid</th>\n",
       "      <th>pct</th>\n",
       "      <th>first_login</th>\n",
       "      <th>last_login</th>\n",
       "      <th>total_logins</th>\n",
       "    </tr>\n",
       "  </thead>\n",
       "  <tbody>\n",
       "    <tr>\n",
       "      <th>0</th>\n",
       "      <td>1235.62</td>\n",
       "      <td>0.0</td>\n",
       "      <td>3</td>\n",
       "      <td>0.0</td>\n",
       "      <td>2015-07-30</td>\n",
       "      <td>2018-01-13</td>\n",
       "      <td>1003.0</td>\n",
       "    </tr>\n",
       "    <tr>\n",
       "      <th>1</th>\n",
       "      <td>82.78</td>\n",
       "      <td>0.0</td>\n",
       "      <td>113</td>\n",
       "      <td>0.0</td>\n",
       "      <td>2015-07-30</td>\n",
       "      <td>2017-04-28</td>\n",
       "      <td>11738.0</td>\n",
       "    </tr>\n",
       "    <tr>\n",
       "      <th>2</th>\n",
       "      <td>4.99</td>\n",
       "      <td>0.0</td>\n",
       "      <td>986</td>\n",
       "      <td>0.0</td>\n",
       "      <td>2015-08-17</td>\n",
       "      <td>2016-05-29</td>\n",
       "      <td>38.0</td>\n",
       "    </tr>\n",
       "    <tr>\n",
       "      <th>3</th>\n",
       "      <td>144.80</td>\n",
       "      <td>0.0</td>\n",
       "      <td>1377</td>\n",
       "      <td>0.0</td>\n",
       "      <td>2016-07-01</td>\n",
       "      <td>2016-11-24</td>\n",
       "      <td>3617.0</td>\n",
       "    </tr>\n",
       "    <tr>\n",
       "      <th>4</th>\n",
       "      <td>2635.80</td>\n",
       "      <td>0.0</td>\n",
       "      <td>1556</td>\n",
       "      <td>0.0</td>\n",
       "      <td>2015-07-30</td>\n",
       "      <td>2018-10-12</td>\n",
       "      <td>39839.0</td>\n",
       "    </tr>\n",
       "  </tbody>\n",
       "</table>\n",
       "</div>"
      ],
      "text/plain": [
       "     spent  refund  userid  pct first_login last_login  total_logins\n",
       "0  1235.62     0.0       3  0.0  2015-07-30 2018-01-13        1003.0\n",
       "1    82.78     0.0     113  0.0  2015-07-30 2017-04-28       11738.0\n",
       "2     4.99     0.0     986  0.0  2015-08-17 2016-05-29          38.0\n",
       "3   144.80     0.0    1377  0.0  2016-07-01 2016-11-24        3617.0\n",
       "4  2635.80     0.0    1556  0.0  2015-07-30 2018-10-12       39839.0"
      ]
     },
     "execution_count": 91,
     "metadata": {},
     "output_type": "execute_result"
    }
   ],
   "source": [
    "gagg_df.head()"
   ]
  },
  {
   "cell_type": "code",
   "execution_count": 92,
   "metadata": {
    "ExecuteTime": {
     "end_time": "2018-10-15T14:24:17.479806Z",
     "start_time": "2018-10-15T14:24:17.437335Z"
    }
   },
   "outputs": [
    {
     "data": {
      "text/html": [
       "<div>\n",
       "<style>\n",
       "    .dataframe thead tr:only-child th {\n",
       "        text-align: right;\n",
       "    }\n",
       "\n",
       "    .dataframe thead th {\n",
       "        text-align: left;\n",
       "    }\n",
       "\n",
       "    .dataframe tbody tr th {\n",
       "        vertical-align: top;\n",
       "    }\n",
       "</style>\n",
       "<table border=\"1\" class=\"dataframe\">\n",
       "  <thead>\n",
       "    <tr style=\"text-align: right;\">\n",
       "      <th></th>\n",
       "      <th>spent</th>\n",
       "      <th>refund</th>\n",
       "      <th>userid</th>\n",
       "      <th>pct</th>\n",
       "      <th>first_login</th>\n",
       "      <th>last_login</th>\n",
       "      <th>total_logins</th>\n",
       "    </tr>\n",
       "  </thead>\n",
       "  <tbody>\n",
       "    <tr>\n",
       "      <th>0</th>\n",
       "      <td>133016.87</td>\n",
       "      <td>0.0</td>\n",
       "      <td>3237794</td>\n",
       "      <td>0.0</td>\n",
       "      <td>2015-12-27</td>\n",
       "      <td>2018-10-12</td>\n",
       "      <td>35227.0</td>\n",
       "    </tr>\n",
       "    <tr>\n",
       "      <th>1</th>\n",
       "      <td>126834.94</td>\n",
       "      <td>0.0</td>\n",
       "      <td>15929482</td>\n",
       "      <td>0.0</td>\n",
       "      <td>2017-03-12</td>\n",
       "      <td>2018-10-12</td>\n",
       "      <td>30733.0</td>\n",
       "    </tr>\n",
       "    <tr>\n",
       "      <th>2</th>\n",
       "      <td>110151.25</td>\n",
       "      <td>0.0</td>\n",
       "      <td>23865087</td>\n",
       "      <td>0.0</td>\n",
       "      <td>2017-12-02</td>\n",
       "      <td>2018-10-12</td>\n",
       "      <td>20410.0</td>\n",
       "    </tr>\n",
       "    <tr>\n",
       "      <th>3</th>\n",
       "      <td>105997.60</td>\n",
       "      <td>0.0</td>\n",
       "      <td>1301952</td>\n",
       "      <td>0.0</td>\n",
       "      <td>2015-09-29</td>\n",
       "      <td>2018-10-12</td>\n",
       "      <td>29452.0</td>\n",
       "    </tr>\n",
       "    <tr>\n",
       "      <th>4</th>\n",
       "      <td>97817.13</td>\n",
       "      <td>0.0</td>\n",
       "      <td>15229821</td>\n",
       "      <td>0.0</td>\n",
       "      <td>2017-02-21</td>\n",
       "      <td>2018-10-12</td>\n",
       "      <td>50730.0</td>\n",
       "    </tr>\n",
       "  </tbody>\n",
       "</table>\n",
       "</div>"
      ],
      "text/plain": [
       "       spent  refund    userid  pct first_login last_login  total_logins\n",
       "0  133016.87     0.0   3237794  0.0  2015-12-27 2018-10-12       35227.0\n",
       "1  126834.94     0.0  15929482  0.0  2017-03-12 2018-10-12       30733.0\n",
       "2  110151.25     0.0  23865087  0.0  2017-12-02 2018-10-12       20410.0\n",
       "3  105997.60     0.0   1301952  0.0  2015-09-29 2018-10-12       29452.0\n",
       "4   97817.13     0.0  15229821  0.0  2017-02-21 2018-10-12       50730.0"
      ]
     },
     "execution_count": 92,
     "metadata": {},
     "output_type": "execute_result"
    }
   ],
   "source": [
    "gagg_df = gagg_df.sort_values('spent', ascending=False).reset_index(drop=True)\n",
    "gagg_df.head()"
   ]
  },
  {
   "cell_type": "markdown",
   "metadata": {},
   "source": [
    "### Refunders"
   ]
  },
  {
   "cell_type": "code",
   "execution_count": 93,
   "metadata": {
    "ExecuteTime": {
     "end_time": "2018-10-15T14:24:18.072749Z",
     "start_time": "2018-10-15T14:24:17.481868Z"
    },
    "scrolled": true
   },
   "outputs": [
    {
     "name": "stdout",
     "output_type": "stream",
     "text": [
      "total refunders:  7992\n"
     ]
    },
    {
     "data": {
      "text/html": [
       "<div>\n",
       "<style>\n",
       "    .dataframe thead tr:only-child th {\n",
       "        text-align: right;\n",
       "    }\n",
       "\n",
       "    .dataframe thead th {\n",
       "        text-align: left;\n",
       "    }\n",
       "\n",
       "    .dataframe tbody tr th {\n",
       "        vertical-align: top;\n",
       "    }\n",
       "</style>\n",
       "<table border=\"1\" class=\"dataframe\">\n",
       "  <thead>\n",
       "    <tr style=\"text-align: right;\">\n",
       "      <th></th>\n",
       "      <th>spent</th>\n",
       "      <th>userid</th>\n",
       "      <th>refund</th>\n",
       "      <th>pct</th>\n",
       "      <th>first_login</th>\n",
       "      <th>last_login</th>\n",
       "      <th>total_logins</th>\n",
       "    </tr>\n",
       "  </thead>\n",
       "  <tbody>\n",
       "    <tr>\n",
       "      <th>0</th>\n",
       "      <td>4803.15</td>\n",
       "      <td>8604</td>\n",
       "      <td>349.96</td>\n",
       "      <td>7.286052</td>\n",
       "      <td>2015-07-30</td>\n",
       "      <td>2018-10-12</td>\n",
       "      <td>48791</td>\n",
       "    </tr>\n",
       "    <tr>\n",
       "      <th>1</th>\n",
       "      <td>9.98</td>\n",
       "      <td>9776</td>\n",
       "      <td>9.98</td>\n",
       "      <td>100.000000</td>\n",
       "      <td>2015-08-12</td>\n",
       "      <td>2016-09-29</td>\n",
       "      <td>4016</td>\n",
       "    </tr>\n",
       "    <tr>\n",
       "      <th>2</th>\n",
       "      <td>10297.71</td>\n",
       "      <td>18472</td>\n",
       "      <td>99.99</td>\n",
       "      <td>0.970993</td>\n",
       "      <td>2015-07-30</td>\n",
       "      <td>2018-07-16</td>\n",
       "      <td>46586</td>\n",
       "    </tr>\n",
       "    <tr>\n",
       "      <th>3</th>\n",
       "      <td>89999.74</td>\n",
       "      <td>20988</td>\n",
       "      <td>1099.89</td>\n",
       "      <td>1.222104</td>\n",
       "      <td>2015-07-30</td>\n",
       "      <td>2018-10-12</td>\n",
       "      <td>105000</td>\n",
       "    </tr>\n",
       "    <tr>\n",
       "      <th>4</th>\n",
       "      <td>5562.22</td>\n",
       "      <td>22381</td>\n",
       "      <td>49.99</td>\n",
       "      <td>0.898742</td>\n",
       "      <td>2015-07-31</td>\n",
       "      <td>2018-10-12</td>\n",
       "      <td>50361</td>\n",
       "    </tr>\n",
       "  </tbody>\n",
       "</table>\n",
       "</div>"
      ],
      "text/plain": [
       "      spent  userid   refund         pct first_login last_login  total_logins\n",
       "0   4803.15    8604   349.96    7.286052  2015-07-30 2018-10-12         48791\n",
       "1      9.98    9776     9.98  100.000000  2015-08-12 2016-09-29          4016\n",
       "2  10297.71   18472    99.99    0.970993  2015-07-30 2018-07-16         46586\n",
       "3  89999.74   20988  1099.89    1.222104  2015-07-30 2018-10-12        105000\n",
       "4   5562.22   22381    49.99    0.898742  2015-07-31 2018-10-12         50361"
      ]
     },
     "execution_count": 93,
     "metadata": {},
     "output_type": "execute_result"
    }
   ],
   "source": [
    "pay_df, agg_df = ensure_payment_history(SINCE_DATE)\n",
    "\n",
    "print('total refunders: ', len(agg_df))\n",
    "\n",
    "agg_df.head()"
   ]
  },
  {
   "cell_type": "code",
   "execution_count": 94,
   "metadata": {
    "ExecuteTime": {
     "end_time": "2018-10-15T14:24:18.336200Z",
     "start_time": "2018-10-15T14:24:18.076554Z"
    },
    "scrolled": false
   },
   "outputs": [
    {
     "data": {
      "image/png": "[encoded data removed]",
      "text/plain": [
       "<matplotlib.figure.Figure at 0x252888e0e10>"
      ]
     },
     "metadata": {},
     "output_type": "display_data"
    }
   ],
   "source": [
    "agg_df['pct'].hist(bins=20)\n",
    "plt.show()"
   ]
  },
  {
   "cell_type": "code",
   "execution_count": 95,
   "metadata": {
    "ExecuteTime": {
     "end_time": "2018-10-15T14:24:18.372721Z",
     "start_time": "2018-10-15T14:24:18.340493Z"
    }
   },
   "outputs": [
    {
     "name": "stdout",
     "output_type": "stream",
     "text": [
      "0-10%\t\t3055\n",
      "10-20%\t\t788\n",
      "20-30%\t\t434\n",
      "30-40%\t\t289\n",
      "40-50%\t\t209\n",
      "50-60%\t\t277\n",
      "60-70%\t\t154\n",
      "70-80%\t\t140\n",
      "80-90%\t\t149\n",
      "90-100%\t\t186\n",
      "100-110%\t\t2311\n",
      "(3217, 7)\n"
     ]
    }
   ],
   "source": [
    "for i in range(11):\n",
    "    min_pct = i*10\n",
    "    max_pct = (i+1)*10\n",
    "    print('{}-{}%\\t\\t{}'.format(min_pct, max_pct, \n",
    "                              agg_df[(min_pct <= agg_df['pct']) & (agg_df['pct'] < max_pct)].shape[0]))\n",
    "    \n",
    "print(agg_df[(50 <= agg_df['pct'])].shape)"
   ]
  },
  {
   "cell_type": "code",
   "execution_count": 63,
   "metadata": {
    "ExecuteTime": {
     "end_time": "2018-10-15T14:47:35.268702Z",
     "start_time": "2018-10-15T14:47:35.259246Z"
    },
    "collapsed": true
   },
   "outputs": [],
   "source": []
  },
  {
   "cell_type": "code",
   "execution_count": 106,
   "metadata": {
    "ExecuteTime": {
     "end_time": "2018-10-15T14:56:26.209569Z",
     "start_time": "2018-10-15T14:56:22.987673Z"
    },
    "scrolled": false
   },
   "outputs": [
    {
     "data": {
      "image/png": "[encoded data removed]",
      "text/plain": [
       "<matplotlib.figure.Figure at 0x25289e71a20>"
      ]
     },
     "metadata": {},
     "output_type": "display_data"
    }
   ],
   "source": [
    "fig, axes = plt.subplots(5, 2, figsize=(16, 12))\n",
    "smin = 90\n",
    "smax = 100\n",
    "segms = [smin + (smax - smin)*i/10 for i in range(11)]\n",
    "\n",
    "for i in range(10):\n",
    "    segm_users = agg_df[(segms[i] < agg_df['pct']) & (agg_df['pct'] <= segms[i+1])]\\\n",
    "                 .sort_values('spent', ascending=False)['userid']\\\n",
    "                 .values\n",
    "    \n",
    "    user_id = 42590651 #segm_users[0]\n",
    "    user_df = pay_df[pay_df['userid'] == user_id]\n",
    "    user_ag = agg_df[agg_df['userid'] == user_id].iloc[0, :]\n",
    "\n",
    "    axis = axes[i//2, i%2]\n",
    "    title = 'segment {0}-{1}%'.format(segms[i], segms[i+1])\n",
    "    \n",
    "    visualize_pay_history(user_df, user_ag, axis, title)\n",
    "\n",
    "plt.tight_layout()\n",
    "plt.show()"
   ]
  },
  {
   "cell_type": "markdown",
   "metadata": {},
   "source": [
    "### Clustering"
   ]
  },
  {
   "cell_type": "code",
   "execution_count": 97,
   "metadata": {
    "ExecuteTime": {
     "end_time": "2018-10-15T15:34:49.359660Z",
     "start_time": "2018-10-15T15:34:43.056206Z"
    }
   },
   "outputs": [
    {
     "data": {
      "image/png": "[encoded data removed]",
      "text/plain": [
       "<matplotlib.figure.Figure at 0x25289edd320>"
      ]
     },
     "metadata": {},
     "output_type": "display_data"
    }
   ],
   "source": [
    "fig, axes = plt.subplots(10, 3, figsize=(16, 24))\n",
    "user_ids = agg_df[agg_df['pct'] == 100].sort_values('spent', ascending=False)['userid'].values\n",
    "\n",
    "for i in range(30):\n",
    "    user_id = user_ids[500+i]\n",
    "    user_df = pay_df[pay_df['userid'] == user_id]\n",
    "    user_ag = agg_df[agg_df['userid'] == user_id].iloc[0, :]\n",
    "\n",
    "    axis = axes[i//3, i%3]\n",
    "    \n",
    "    visualize_pay_history(user_df, user_ag, axis, '')\n",
    "\n",
    "plt.tight_layout()\n",
    "plt.show()"
   ]
  },
  {
   "cell_type": "markdown",
   "metadata": {},
   "source": [
    "## DTW\n"
   ]
  },
  {
   "cell_type": "code",
   "execution_count": 98,
   "metadata": {
    "ExecuteTime": {
     "end_time": "2018-10-15T15:30:44.825218Z",
     "start_time": "2018-10-15T15:30:44.819189Z"
    },
    "collapsed": true
   },
   "outputs": [],
   "source": [
    "def get_clust_features(pays, aggs):\n",
    "    feats = []\n",
    "\n",
    "    user_ids = pays['userid'].unique()\n",
    "    for user_id in user_ids:\n",
    "        user_df = pays[pays['userid'] == user_id]\n",
    "        user_ag = aggs[aggs['userid'] == user_id]\n",
    "        if len(user_ag) == 0:  # WARNING: 39018652 have no trans in Hive, but 1 tran (with refund) in comtool\n",
    "            continue\n",
    "        user_ag = user_ag.iloc[0, :]\n",
    "        \n",
    "        fs = [user_id]\n",
    "        \n",
    "        # 1\n",
    "        ch = np.abs(np.diff(user_df['type'].values)).sum()\n",
    "        fs.append(ch)\n",
    "        \n",
    "        # 2\n",
    "        fs.append(user_ag['pct'])\n",
    "        \n",
    "        # 3\n",
    "        fs.append(user_df['type'].sum())\n",
    "        \n",
    "        feats.append(fs)\n",
    "\n",
    "    feat_df = pd.DataFrame(feats, columns=['userid', 'ch', 'pct', 'rr'])\n",
    "    return feat_df"
   ]
  },
  {
   "cell_type": "code",
   "execution_count": 99,
   "metadata": {
    "ExecuteTime": {
     "end_time": "2018-10-15T15:32:13.836980Z",
     "start_time": "2018-10-15T15:31:53.801376Z"
    },
    "collapsed": true
   },
   "outputs": [],
   "source": [
    "clust_fs = get_clust_features(pay_df, agg_df)"
   ]
  },
  {
   "cell_type": "code",
   "execution_count": 123,
   "metadata": {
    "ExecuteTime": {
     "end_time": "2018-10-15T15:33:20.536265Z",
     "start_time": "2018-10-15T15:33:20.525217Z"
    }
   },
   "outputs": [],
   "source": [
    "np.random.seed(9)\n",
    "cluster_ids = clust_fs[(clust_fs['pct'] == 100) & (clust_fs['ch'] == 1)]['userid'].values\n",
    "np.random.shuffle(cluser_ids)\n",
    "\n",
    "other_ids = pay_df['userid'].unique()\n",
    "np.random.shuffle(other_ids)"
   ]
  },
  {
   "cell_type": "code",
   "execution_count": 124,
   "metadata": {},
   "outputs": [
    {
     "data": {
      "text/plain": [
       "(7993,)"
      ]
     },
     "execution_count": 124,
     "metadata": {},
     "output_type": "execute_result"
    }
   ],
   "source": [
    "pay_df['userid'].unique().shape"
   ]
  },
  {
   "cell_type": "code",
   "execution_count": 125,
   "metadata": {},
   "outputs": [
    {
     "data": {
      "text/plain": [
       "(2189,)"
      ]
     },
     "execution_count": 125,
     "metadata": {},
     "output_type": "execute_result"
    }
   ],
   "source": [
    "cluster_ids.shape"
   ]
  },
  {
   "cell_type": "code",
   "execution_count": 126,
   "metadata": {
    "ExecuteTime": {
     "end_time": "2018-10-15T15:40:03.499450Z",
     "start_time": "2018-10-15T15:40:03.486098Z"
    }
   },
   "outputs": [
    {
     "data": {
      "text/plain": [
       "2.5099999999999989"
      ]
     },
     "execution_count": 126,
     "metadata": {},
     "output_type": "execute_result"
    }
   ],
   "source": [
    "x = pay_df[pay_df['userid'] == 3594622]['value'].values.reshape(-1, 1)\n",
    "y = pay_df[pay_df['userid'] == 46603522]['value'].values.reshape(-1, 1)\n",
    "\n",
    "dtw(y, x, dist=lambda x, y: np.linalg.norm(x - y, ord=1))[0]"
   ]
  },
  {
   "cell_type": "code",
   "execution_count": 239,
   "metadata": {},
   "outputs": [],
   "source": [
    "def prepare_data():\n",
    "    X = []\n",
    "    y = []\n",
    "    user_ids = pay_df['userid'].unique()\n",
    "    for user_id in user_ids:\n",
    "        user_df = pay_df[pay_df['userid'] == user_id]\n",
    "        values = (user_df['value']*(1 - 2*user_df['type'])).values\n",
    "        X.append(values)\n",
    "        y.append(1 if user_id in cluster_ids else 0)\n",
    "    \n",
    "    return train_test_split(X, y, test_size=0.2, stratify=y, random_state=9) "
   ]
  },
  {
   "cell_type": "code",
   "execution_count": 240,
   "metadata": {
    "collapsed": true
   },
   "outputs": [],
   "source": [
    "X_train, X_test, y_train, y_test = prepare_data()"
   ]
  },
  {
   "cell_type": "code",
   "execution_count": 241,
   "metadata": {},
   "outputs": [],
   "source": [
    "y_clust = [None]*len(y_train)\n",
    "y_clust[0] = 0\n",
    "y_clust[4] = 1"
   ]
  },
  {
   "cell_type": "code",
   "execution_count": 242,
   "metadata": {
    "scrolled": true
   },
   "outputs": [],
   "source": [
    "def dist_function_modified(x, y):\n",
    "    return dtw(x, y)[0]\n",
    "\n",
    "model = SimpleClusterizer(dist_function_modified, random_state=9)\n",
    "model.fit(np.array(X_train)[:200], np.array(y_clust)[:200])"
   ]
  },
  {
   "cell_type": "code",
   "execution_count": 243,
   "metadata": {},
   "outputs": [],
   "source": [
    "y_pred = model.predict(X_test[:200])"
   ]
  },
  {
   "cell_type": "code",
   "execution_count": 244,
   "metadata": {},
   "outputs": [
    {
     "name": "stdout",
     "output_type": "stream",
     "text": [
      "0.298245614035 0.68 0.414634146341\n"
     ]
    }
   ],
   "source": [
    "precision = precision_score(y_test[:200], y_pred)\n",
    "recall = recall_score(y_test[:200], y_pred)\n",
    "f1 = f1_score(y_test[:200], y_pred)\n",
    "\n",
    "print(precision, recall, f1)"
   ]
  },
  {
   "cell_type": "code",
   "execution_count": 245,
   "metadata": {},
   "outputs": [],
   "source": [
    "def dist_function_modified(x, y):\n",
    "    k = y.max()/x.max()\n",
    "    x = k*x\n",
    "    return dtw(x, y)[0]\n",
    "\n",
    "model = SimpleClusterizer(dist_function_modified, random_state=9)\n",
    "model.fit(np.array(X_train)[:200], np.array(y_clust)[:200])"
   ]
  },
  {
   "cell_type": "code",
   "execution_count": 246,
   "metadata": {},
   "outputs": [],
   "source": [
    "y_pred = model.predict(X_test[:200])"
   ]
  },
  {
   "cell_type": "code",
   "execution_count": 247,
   "metadata": {},
   "outputs": [
    {
     "name": "stdout",
     "output_type": "stream",
     "text": [
      "0.25 1.0 0.4\n"
     ]
    }
   ],
   "source": [
    "precision = precision_score(y_test[:200], y_pred)\n",
    "recall = recall_score(y_test[:200], y_pred)\n",
    "f1 = f1_score(y_test[:200], y_pred)\n",
    "\n",
    "print(precision, recall, f1)"
   ]
  },
  {
   "cell_type": "code",
   "execution_count": 248,
   "metadata": {},
   "outputs": [],
   "source": [
    "def dist_function_modified(x, y):\n",
    "    k1 = y.max()/x.max()\n",
    "    k2 = y.min()/x.min()\n",
    "\n",
    "    x[np.where(x > 0)] *= k1\n",
    "    x[np.where(x < 0)] *= k2\n",
    "\n",
    "    return dtw(x, y)[0]\n",
    "\n",
    "model = SimpleClusterizer(dist_function_modified, random_state=9)\n",
    "model.fit(np.array(X_train)[:200], np.array(y_clust)[:200])"
   ]
  },
  {
   "cell_type": "code",
   "execution_count": 249,
   "metadata": {
    "collapsed": true
   },
   "outputs": [],
   "source": [
    "y_pred = model.predict(X_test[:200])"
   ]
  },
  {
   "cell_type": "code",
   "execution_count": 250,
   "metadata": {},
   "outputs": [
    {
     "name": "stdout",
     "output_type": "stream",
     "text": [
      "0.716417910448 0.96 0.820512820513\n"
     ]
    }
   ],
   "source": [
    "precision = precision_score(y_test[:200], y_pred)\n",
    "recall = recall_score(y_test[:200], y_pred)\n",
    "f1 = f1_score(y_test[:200], y_pred)\n",
    "\n",
    "print(precision, recall, f1)"
   ]
  },
  {
   "cell_type": "code",
   "execution_count": null,
   "metadata": {
    "collapsed": true
   },
   "outputs": [],
   "source": []
  },
  {
   "cell_type": "code",
   "execution_count": null,
   "metadata": {
    "collapsed": true
   },
   "outputs": [],
   "source": []
  },
  {
   "cell_type": "markdown",
   "metadata": {
    "ExecuteTime": {
     "end_time": "2018-10-11T05:10:04.348204Z",
     "start_time": "2018-10-11T05:10:04.341938Z"
    }
   },
   "source": [
    "### Basic feature extraction"
   ]
  },
  {
   "cell_type": "code",
   "execution_count": 44,
   "metadata": {
    "ExecuteTime": {
     "end_time": "2018-10-15T14:36:13.881872Z",
     "start_time": "2018-10-15T14:36:13.852102Z"
    },
    "collapsed": true
   },
   "outputs": [],
   "source": [
    "def extract_features(user_df, user_ag, part=False):\n",
    "    user_id = user_df['userid'].values[0]\n",
    "    \n",
    "    fs = [user_id]\n",
    "    \n",
    "    first_login = user_ag['first_login']\n",
    "    last_login  = user_df.iloc[-1]['date'] if part else user_ag['last_login']\n",
    "\n",
    "    # f1: user lifetime\n",
    "    L = (last_login - first_login).days + 1\n",
    "    fs.append(L)\n",
    "\n",
    "    # f2: delta_1\n",
    "    d1 = (user_df.iloc[0]['date'] - first_login).days\n",
    "    fs.append(d1)\n",
    "\n",
    "    # f3: delta_2\n",
    "    d2 = (last_login - user_df.iloc[-1]['date']).days\n",
    "    fs.append(d2)\n",
    "\n",
    "    # f4: current pct\n",
    "    p1 = user_df[user_df['type'] == 1]['value']\n",
    "    p1 = p1.sum() if len(p1)>0 else 0.0\n",
    "    p2 = user_df[user_df['type'] == 0]['value']\n",
    "    p2 = p2.sum() if len(p2)>0 else 0.0\n",
    "    pct = 0.0 if p2 == 0.0 else 100*p1/p2\n",
    "    fs.append(pct)\n",
    "\n",
    "    # f5: m1\n",
    "    m1 = user_df[user_df['type'] == 0]['value']\n",
    "    m1 = m1.mean() if len(m1)>0 else 0.0\n",
    "    fs.append(m1)\n",
    "\n",
    "    # f6: m2\n",
    "    m2 = user_df[user_df['type'] == 1]['value']\n",
    "    m2 = m2.mean() if len(m2)>0 else 0.0\n",
    "    fs.append(m2)\n",
    "\n",
    "    # f7: m1/m2\n",
    "    m1dm2 = m1/(m2 + 0.01)\n",
    "    fs.append(m1dm2)\n",
    "\n",
    "    # f8: m3\n",
    "    m3 = user_df[user_df['type'] == 0]['value']\n",
    "    m3 = m3.max() if len(m3)>0 else 0.0\n",
    "    fs.append(m3)\n",
    "\n",
    "    # f9: m4\n",
    "    m4 = user_df[user_df['type'] == 1]['value']\n",
    "    m4 = m4.max() if len(m4)>0 else 0.0\n",
    "    fs.append(m4)\n",
    "\n",
    "    # f10: m3/m4\n",
    "    m3dm4 = m3/(m4 + 0.01)\n",
    "    fs.append(m3dm4)\n",
    "\n",
    "    # f11: chaotic (0, 1 - not chaotic, 0.5 - chaotic)\n",
    "    ch = np.abs(np.diff(user_df['type'].values)).sum() / len(user_df)\n",
    "    fs.append(ch)\n",
    "\n",
    "    # f12: number of logins\n",
    "    tl = user_ag['total_logins']\n",
    "    fs.append(tl)\n",
    "    \n",
    "    return fs\n",
    " \n",
    "\n",
    "def get_basic_features(pays, aggs, multiple=False, trunc_before_refund=False):\n",
    "    feats = []\n",
    "\n",
    "    user_ids = pays['userid'].unique()\n",
    "    for user_id in user_ids:\n",
    "        user_df = pays[pays['userid'] == user_id]\n",
    "        user_ag = aggs[aggs['userid'] == user_id]\n",
    "        if len(user_ag) == 0:  # WARNING: 39018652 have no trans in Hive, but 1 tran (with refund) in comtool\n",
    "            continue\n",
    "        user_ag = user_ag.iloc[0, :]\n",
    "        \n",
    "        part = False\n",
    "        \n",
    "        if trunc_before_refund:\n",
    "            uparts_dfs = split_to_refunds(user_df)\n",
    "            for upart_df in uparts_dfs:\n",
    "                fs = extract_features(upart_df, user_ag, part=True)\n",
    "                feats.append(fs)\n",
    "        else:\n",
    "            fs = extract_features(user_df, user_ag, part=False)\n",
    "            feats.append(fs)\n",
    "\n",
    "#         if multiple:\n",
    "#             l = len(user_df)\n",
    "            \n",
    "#             l1 = int(0.3*l)\n",
    "#             user_df1 = user_df.iloc[:l1, :]\n",
    "#             if len(user_df1)>0:\n",
    "#                 fs = extract_features(user_df1, user_ag, part=True)\n",
    "#                 feats.append(fs)\n",
    "                \n",
    "#             l2 = int(0.6*l)\n",
    "#             user_df2 = user_df.iloc[:l2, :]\n",
    "#             if len(user_df2)>0:\n",
    "#                 fs = extract_features(user_df2, user_ag, part=True)\n",
    "#                 feats.append(fs)\n",
    "            \n",
    "#             l3 = int(0.9*l)\n",
    "#             user_df3 = user_df.iloc[:l3, :]\n",
    "#             if len(user_df3)>0:\n",
    "#                 fs = extract_features(user_df3, user_ag, part=True)\n",
    "#                 feats.append(fs)\n",
    "#         else:\n",
    "#             fs = extract_features(user_df, user_ag, part=part)\n",
    "#             feats.append(fs)\n",
    "\n",
    "    feat_df = pd.DataFrame(feats, columns=['userid',\n",
    "                                           'L',\n",
    "                                           'd1', 'd2',\n",
    "                                           'cur_pct',\n",
    "                                           'm1', 'm2', 'm1dm2', 'm3', 'm4', 'm3dm4',\n",
    "                                           'ch',\n",
    "                                           'tl'])\n",
    "    return feat_df\n",
    "\n",
    "\n",
    "def split_to_refunds(user_df):\n",
    "    l = len(user_df)\n",
    "    ts = user_df['type'].values\n",
    "    refs = np.where(ts == 1)[0]\n",
    "    \n",
    "    if len(refs) == 0:\n",
    "        return [user_df]\n",
    "    \n",
    "    idx = max(int(0.9*refs[0]), 1)\n",
    "    user_df = user_df.reset_index(drop=True).iloc[:idx, :]\n",
    "\n",
    "    return [user_df]\n",
    "    \n",
    "\n",
    "def ensure_features(good_users, multiple, trunc_before_refund):\n",
    "    fpath = 'features_good_{0}_{1}_{2}.csv'.format(good_users, \n",
    "                                                   'T' if multiple else 'F',\n",
    "                                                   'T' if trunc_before_refund else 'F')\n",
    "    if os.path.exists(fpath):\n",
    "        return pd.read_csv(fpath)\n",
    "    \n",
    "    print('build features from bad users...')\n",
    "    \n",
    "    bad_df = get_basic_features(pay_df, agg_df, \n",
    "                                multiple=multiple, \n",
    "                                trunc_before_refund=trunc_before_refund)\n",
    "    print(bad_df.shape)\n",
    "    print(bad_df[bad_df['cur_pct'] >= THRESHOLD_PCT].shape)\n",
    "    \n",
    "    print('build features from good users...')\n",
    "    \n",
    "    good_ids = gagg_df.loc[:good_users, 'userid'].values\n",
    "    good_df = gpay_df[gpay_df['userid'].isin(good_ids)]\n",
    "    good_df = get_basic_features(good_df, gagg_df, \n",
    "                                 multiple=multiple, \n",
    "                                 trunc_before_refund=trunc_before_refund)\n",
    "    \n",
    "    feat_df = pd.concat([good_df, bad_df]).sample(frac=1, random_state=9)\n",
    "    #feat_df = feat_df.drop(['userid', 'pct', 'cur_pct'], axis=1)\n",
    "    \n",
    "    feat_df.to_csv(fpath, index=False)\n",
    "\n",
    "    return feat_df"
   ]
  },
  {
   "cell_type": "markdown",
   "metadata": {},
   "source": [
    "## Model v.$\\alpha$"
   ]
  },
  {
   "cell_type": "code",
   "execution_count": 56,
   "metadata": {
    "ExecuteTime": {
     "end_time": "2018-10-15T14:42:02.831367Z",
     "start_time": "2018-10-15T14:42:02.726890Z"
    },
    "collapsed": true,
    "scrolled": true
   },
   "outputs": [],
   "source": [
    "gpay_df = gpay_df.reset_index(drop=True)\n",
    "gagg_df = gagg_df.reset_index(drop=True)\n",
    "pay_df = pay_df.reset_index(drop=True)\n",
    "agg_df = agg_df.reset_index(drop=True)\n",
    "\n",
    "feat_df = ensure_features(good_users=10000, multiple=False, trunc_before_refund=False)"
   ]
  },
  {
   "cell_type": "code",
   "execution_count": 61,
   "metadata": {
    "ExecuteTime": {
     "end_time": "2018-10-15T14:42:23.757914Z",
     "start_time": "2018-10-15T14:42:23.729925Z"
    },
    "scrolled": false
   },
   "outputs": [
    {
     "data": {
      "text/html": [
       "<div>\n",
       "<style scoped>\n",
       "    .dataframe tbody tr th:only-of-type {\n",
       "        vertical-align: middle;\n",
       "    }\n",
       "\n",
       "    .dataframe tbody tr th {\n",
       "        vertical-align: top;\n",
       "    }\n",
       "\n",
       "    .dataframe thead th {\n",
       "        text-align: right;\n",
       "    }\n",
       "</style>\n",
       "<table border=\"1\" class=\"dataframe\">\n",
       "  <thead>\n",
       "    <tr style=\"text-align: right;\">\n",
       "      <th></th>\n",
       "      <th>userid</th>\n",
       "      <th>L</th>\n",
       "      <th>d1</th>\n",
       "      <th>d2</th>\n",
       "      <th>cur_pct</th>\n",
       "      <th>m1</th>\n",
       "      <th>m2</th>\n",
       "      <th>m1dm2</th>\n",
       "      <th>m3</th>\n",
       "      <th>m4</th>\n",
       "      <th>m3dm4</th>\n",
       "      <th>ch</th>\n",
       "      <th>tl</th>\n",
       "      <th>target</th>\n",
       "    </tr>\n",
       "  </thead>\n",
       "  <tbody>\n",
       "    <tr>\n",
       "      <th>0</th>\n",
       "      <td>42601507</td>\n",
       "      <td>142</td>\n",
       "      <td>139</td>\n",
       "      <td>1</td>\n",
       "      <td>100.000000</td>\n",
       "      <td>29.970000</td>\n",
       "      <td>29.97</td>\n",
       "      <td>0.999666</td>\n",
       "      <td>29.97</td>\n",
       "      <td>29.97</td>\n",
       "      <td>0.999666</td>\n",
       "      <td>0.500000</td>\n",
       "      <td>25.0</td>\n",
       "      <td>1</td>\n",
       "    </tr>\n",
       "    <tr>\n",
       "      <th>1</th>\n",
       "      <td>12189120</td>\n",
       "      <td>679</td>\n",
       "      <td>2</td>\n",
       "      <td>224</td>\n",
       "      <td>4.479451</td>\n",
       "      <td>10.378140</td>\n",
       "      <td>19.99</td>\n",
       "      <td>0.518907</td>\n",
       "      <td>39.95</td>\n",
       "      <td>19.99</td>\n",
       "      <td>1.997500</td>\n",
       "      <td>0.045455</td>\n",
       "      <td>19506.0</td>\n",
       "      <td>0</td>\n",
       "    </tr>\n",
       "    <tr>\n",
       "      <th>2</th>\n",
       "      <td>23296145</td>\n",
       "      <td>281</td>\n",
       "      <td>44</td>\n",
       "      <td>-1</td>\n",
       "      <td>50.000000</td>\n",
       "      <td>9.990000</td>\n",
       "      <td>9.99</td>\n",
       "      <td>0.999000</td>\n",
       "      <td>9.99</td>\n",
       "      <td>9.99</td>\n",
       "      <td>0.999000</td>\n",
       "      <td>0.333333</td>\n",
       "      <td>64.0</td>\n",
       "      <td>0</td>\n",
       "    </tr>\n",
       "    <tr>\n",
       "      <th>3</th>\n",
       "      <td>13133396</td>\n",
       "      <td>19</td>\n",
       "      <td>4</td>\n",
       "      <td>2</td>\n",
       "      <td>42.873497</td>\n",
       "      <td>6.988000</td>\n",
       "      <td>7.49</td>\n",
       "      <td>0.931733</td>\n",
       "      <td>9.99</td>\n",
       "      <td>9.99</td>\n",
       "      <td>0.999000</td>\n",
       "      <td>0.428571</td>\n",
       "      <td>1498.0</td>\n",
       "      <td>0</td>\n",
       "    </tr>\n",
       "    <tr>\n",
       "      <th>4</th>\n",
       "      <td>42556428</td>\n",
       "      <td>187</td>\n",
       "      <td>0</td>\n",
       "      <td>2</td>\n",
       "      <td>0.000000</td>\n",
       "      <td>40.991111</td>\n",
       "      <td>0.00</td>\n",
       "      <td>4099.111111</td>\n",
       "      <td>199.98</td>\n",
       "      <td>0.00</td>\n",
       "      <td>19998.000000</td>\n",
       "      <td>0.000000</td>\n",
       "      <td>8981.0</td>\n",
       "      <td>0</td>\n",
       "    </tr>\n",
       "  </tbody>\n",
       "</table>\n",
       "</div>"
      ],
      "text/plain": [
       "     userid    L   d1   d2     cur_pct         m1     m2        m1dm2      m3  \\\n",
       "0  42601507  142  139    1  100.000000  29.970000  29.97     0.999666   29.97   \n",
       "1  12189120  679    2  224    4.479451  10.378140  19.99     0.518907   39.95   \n",
       "2  23296145  281   44   -1   50.000000   9.990000   9.99     0.999000    9.99   \n",
       "3  13133396   19    4    2   42.873497   6.988000   7.49     0.931733    9.99   \n",
       "4  42556428  187    0    2    0.000000  40.991111   0.00  4099.111111  199.98   \n",
       "\n",
       "      m4         m3dm4        ch       tl  target  \n",
       "0  29.97      0.999666  0.500000     25.0       1  \n",
       "1  19.99      1.997500  0.045455  19506.0       0  \n",
       "2   9.99      0.999000  0.333333     64.0       0  \n",
       "3   9.99      0.999000  0.428571   1498.0       0  \n",
       "4   0.00  19998.000000  0.000000   8981.0       0  "
      ]
     },
     "execution_count": 61,
     "metadata": {},
     "output_type": "execute_result"
    }
   ],
   "source": [
    "feat_df.head(5)"
   ]
  },
  {
   "cell_type": "code",
   "execution_count": 58,
   "metadata": {
    "ExecuteTime": {
     "end_time": "2018-10-15T14:42:06.234853Z",
     "start_time": "2018-10-15T14:42:05.955140Z"
    },
    "collapsed": true
   },
   "outputs": [],
   "source": [
    "feat_df['target'] = (pd.merge(feat_df, agg_df, on='userid', how='left').fillna(0.0)['pct'] > THRESHOLD_PCT).astype(int)"
   ]
  },
  {
   "cell_type": "code",
   "execution_count": 59,
   "metadata": {
    "ExecuteTime": {
     "end_time": "2018-10-15T14:42:07.435805Z",
     "start_time": "2018-10-15T14:42:07.428866Z"
    },
    "scrolled": true
   },
   "outputs": [
    {
     "data": {
      "text/plain": [
       "0    15058\n",
       "1     2935\n",
       "Name: target, dtype: int64"
      ]
     },
     "execution_count": 59,
     "metadata": {},
     "output_type": "execute_result"
    }
   ],
   "source": [
    "feat_df['target'].value_counts()"
   ]
  },
  {
   "cell_type": "code",
   "execution_count": 60,
   "metadata": {
    "ExecuteTime": {
     "end_time": "2018-10-15T14:42:15.904211Z",
     "start_time": "2018-10-15T14:42:15.890731Z"
    },
    "collapsed": true
   },
   "outputs": [],
   "source": [
    "def train_model(df, estimator, params):\n",
    "    \"\"\"Trains selected model\"\"\"\n",
    "    \n",
    "    X = df.drop('target', axis=1)\n",
    "    y = df['target']\n",
    "    \n",
    "    X_train, X_test, y_train, y_test = \\\n",
    "        train_test_split(X, y, test_size=0.5, stratify=y, random_state=9)\n",
    "\n",
    "    pipeline = Pipeline(steps=[\n",
    "        ('scaling', StandardScaler()),\n",
    "        ('model',   estimator)\n",
    "    ])\n",
    "    \n",
    "    cv = StratifiedKFold(n_splits=9, shuffle=True, random_state=9)\n",
    "    grid = GridSearchCV(pipeline, params, scoring='roc_auc', cv=cv, n_jobs=-1)\n",
    "    grid.fit(X_train, y_train)\n",
    "    \n",
    "    best_model = grid.best_estimator_\n",
    "    cv_score = grid.best_score_\n",
    "    \n",
    "    y_pred = best_model.predict_proba(X_test)[:, 1]\n",
    "    \n",
    "    ho_score = roc_auc_score(y_test, y_pred)\n",
    "\n",
    "    return best_model, cv_score, ho_score"
   ]
  },
  {
   "cell_type": "code",
   "execution_count": 62,
   "metadata": {
    "ExecuteTime": {
     "end_time": "2018-10-15T14:42:46.128577Z",
     "start_time": "2018-10-15T14:42:45.369200Z"
    },
    "scrolled": true
   },
   "outputs": [
    {
     "name": "stdout",
     "output_type": "stream",
     "text": [
      "0.9306880351111622 0.9440746913930983\n"
     ]
    }
   ],
   "source": [
    "model = RandomForestClassifier(n_estimators=1, random_state=9)\n",
    "model, cv_score, ho_score = train_model(feat_df.drop(['userid', 'cur_pct'], axis=1), model, {})\n",
    "\n",
    "print(cv_score, ho_score)"
   ]
  },
  {
   "cell_type": "code",
   "execution_count": 31,
   "metadata": {
    "ExecuteTime": {
     "end_time": "2018-10-15T14:27:09.781638Z",
     "start_time": "2018-10-15T14:27:09.773569Z"
    }
   },
   "outputs": [
    {
     "data": {
      "text/plain": [
       "array([0.12939576, 0.10242869, 0.13519479, 0.11873798, 0.02437229,\n",
       "       0.10395393, 0.08781515, 0.02658407, 0.0841904 , 0.02626739,\n",
       "       0.16105954])"
      ]
     },
     "execution_count": 31,
     "metadata": {},
     "output_type": "execute_result"
    }
   ],
   "source": [
    "rf = model.named_steps['model']\n",
    "rf.feature_importances_"
   ]
  },
  {
   "cell_type": "code",
   "execution_count": 32,
   "metadata": {
    "ExecuteTime": {
     "end_time": "2018-10-15T14:27:09.791296Z",
     "start_time": "2018-10-15T14:27:09.784813Z"
    }
   },
   "outputs": [
    {
     "data": {
      "text/plain": [
       "Index(['userid', 'L', 'd1', 'd2', 'cur_pct', 'm1', 'm2', 'm1dm2', 'm3', 'm4',\n",
       "       'm3dm4', 'ch', 'tl', 'pct', 'target'],\n",
       "      dtype='object')"
      ]
     },
     "execution_count": 32,
     "metadata": {},
     "output_type": "execute_result"
    }
   ],
   "source": [
    "feat_df.columns"
   ]
  },
  {
   "cell_type": "code",
   "execution_count": null,
   "metadata": {
    "ExecuteTime": {
     "end_time": "2018-10-12T11:41:13.323126Z",
     "start_time": "2018-10-12T11:41:13.299138Z"
    },
    "collapsed": true
   },
   "outputs": [],
   "source": []
  },
  {
   "cell_type": "code",
   "execution_count": 33,
   "metadata": {
    "ExecuteTime": {
     "end_time": "2018-10-15T14:27:10.005560Z",
     "start_time": "2018-10-15T14:27:09.794269Z"
    }
   },
   "outputs": [
    {
     "ename": "NameError",
     "evalue": "name 'data_df' is not defined",
     "output_type": "error",
     "traceback": [
      "\u001b[0;31m---------------------------------------------------------------------------\u001b[0m",
      "\u001b[0;31mNameError\u001b[0m                                 Traceback (most recent call last)",
      "\u001b[0;32m<ipython-input-33-6c9bc08e2d77>\u001b[0m in \u001b[0;36m<module>\u001b[0;34m()\u001b[0m\n\u001b[0;32m----> 1\u001b[0;31m \u001b[0mX\u001b[0m \u001b[0;34m=\u001b[0m \u001b[0mdata_df\u001b[0m\u001b[0;34m.\u001b[0m\u001b[0mdrop\u001b[0m\u001b[0;34m(\u001b[0m\u001b[0;34m'target'\u001b[0m\u001b[0;34m,\u001b[0m \u001b[0maxis\u001b[0m\u001b[0;34m=\u001b[0m\u001b[0;36m1\u001b[0m\u001b[0;34m)\u001b[0m\u001b[0;34m\u001b[0m\u001b[0m\n\u001b[0m\u001b[1;32m      2\u001b[0m \u001b[0my\u001b[0m \u001b[0;34m=\u001b[0m \u001b[0mdata_df\u001b[0m\u001b[0;34m[\u001b[0m\u001b[0;34m'target'\u001b[0m\u001b[0;34m]\u001b[0m\u001b[0;34m\u001b[0m\u001b[0m\n\u001b[1;32m      3\u001b[0m \u001b[0;34m\u001b[0m\u001b[0m\n\u001b[1;32m      4\u001b[0m \u001b[0mX_train\u001b[0m\u001b[0;34m,\u001b[0m \u001b[0mX_test\u001b[0m\u001b[0;34m,\u001b[0m \u001b[0my_train\u001b[0m\u001b[0;34m,\u001b[0m \u001b[0my_test\u001b[0m \u001b[0;34m=\u001b[0m     \u001b[0mtrain_test_split\u001b[0m\u001b[0;34m(\u001b[0m\u001b[0mX\u001b[0m\u001b[0;34m,\u001b[0m \u001b[0my\u001b[0m\u001b[0;34m,\u001b[0m \u001b[0mtest_size\u001b[0m\u001b[0;34m=\u001b[0m\u001b[0;36m0.5\u001b[0m\u001b[0;34m,\u001b[0m \u001b[0mstratify\u001b[0m\u001b[0;34m=\u001b[0m\u001b[0my\u001b[0m\u001b[0;34m,\u001b[0m \u001b[0mrandom_state\u001b[0m\u001b[0;34m=\u001b[0m\u001b[0;36m9\u001b[0m\u001b[0;34m)\u001b[0m\u001b[0;34m\u001b[0m\u001b[0m\n\u001b[1;32m      5\u001b[0m \u001b[0;34m\u001b[0m\u001b[0m\n",
      "\u001b[0;31mNameError\u001b[0m: name 'data_df' is not defined"
     ]
    }
   ],
   "source": [
    "X = data_df.drop('target', axis=1)\n",
    "y = data_df['target']\n",
    "\n",
    "X_train, X_test, y_train, y_test = \\\n",
    "    train_test_split(X, y, test_size=0.5, stratify=y, random_state=9)\n",
    "\n",
    "model = RandomForestClassifier(n_jobs=-1)\n",
    "cv = StratifiedKFold(n_splits=9, shuffle=True, random_state=9)\n",
    "cv_score = cross_val_score(model, X_train, y_train, scoring='roc_auc', cv=cv, n_jobs=-1).mean()\n",
    "print(cv_score)\n",
    "\n",
    "model.fit(X_train, y_train)\n",
    "y_pred = model.predict_proba(X_test)[:, 1]\n",
    "ho_score = roc_auc_score(y_test, y_pred)\n",
    "print(ho_score)"
   ]
  },
  {
   "cell_type": "markdown",
   "metadata": {
    "ExecuteTime": {
     "end_time": "2018-10-12T11:29:11.742623Z",
     "start_time": "2018-10-12T11:29:11.738225Z"
    }
   },
   "source": [
    "Hard test"
   ]
  },
  {
   "cell_type": "code",
   "execution_count": null,
   "metadata": {
    "ExecuteTime": {
     "end_time": "2018-10-15T14:27:10.006509Z",
     "start_time": "2018-10-15T14:23:55.686Z"
    },
    "collapsed": true
   },
   "outputs": [],
   "source": [
    "init_bad_df = get_basic_features(pay_df, agg_df, multiple=False)\\\n",
    "                 .drop('userid', axis=1)\\\n",
    "                 .sample(frac=1, random_state=9)\n",
    "         \n",
    "init_bad_df['target'] = (init_bad_df['pct'] > THRESHOLD).astype(int)\n",
    "init_bad_df = init_bad_df.drop('pct', axis=1)"
   ]
  },
  {
   "cell_type": "code",
   "execution_count": null,
   "metadata": {
    "ExecuteTime": {
     "end_time": "2018-10-15T14:27:10.007638Z",
     "start_time": "2018-10-15T14:23:55.687Z"
    },
    "collapsed": true
   },
   "outputs": [],
   "source": [
    "init_bad_df.head()"
   ]
  },
  {
   "cell_type": "code",
   "execution_count": null,
   "metadata": {
    "ExecuteTime": {
     "end_time": "2018-10-15T14:27:10.008623Z",
     "start_time": "2018-10-15T14:23:55.688Z"
    },
    "collapsed": true
   },
   "outputs": [],
   "source": [
    "X_hard = init_bad_df.drop('target', axis=1)\n",
    "y_hard = init_bad_df['target']\n",
    "\n",
    "y_pred = model.predict_proba(X_hard)[:, 1]\n",
    "\n",
    "h_score = roc_auc_score(y_hard, y_pred)\n",
    "h_score"
   ]
  },
  {
   "cell_type": "code",
   "execution_count": null,
   "metadata": {
    "ExecuteTime": {
     "end_time": "2018-10-15T14:27:10.009639Z",
     "start_time": "2018-10-15T14:23:55.689Z"
    },
    "collapsed": true
   },
   "outputs": [],
   "source": [
    "y_pred = (y_pred > THRESHOLD).astype(int)"
   ]
  },
  {
   "cell_type": "code",
   "execution_count": null,
   "metadata": {
    "ExecuteTime": {
     "end_time": "2018-10-12T11:52:56.815467Z",
     "start_time": "2018-10-12T11:52:56.807765Z"
    },
    "collapsed": true
   },
   "outputs": [],
   "source": []
  },
  {
   "cell_type": "code",
   "execution_count": null,
   "metadata": {
    "collapsed": true
   },
   "outputs": [],
   "source": []
  },
  {
   "cell_type": "code",
   "execution_count": null,
   "metadata": {
    "collapsed": true
   },
   "outputs": [],
   "source": []
  },
  {
   "cell_type": "code",
   "execution_count": null,
   "metadata": {
    "collapsed": true
   },
   "outputs": [],
   "source": []
  },
  {
   "cell_type": "code",
   "execution_count": null,
   "metadata": {
    "collapsed": true
   },
   "outputs": [],
   "source": []
  },
  {
   "cell_type": "code",
   "execution_count": null,
   "metadata": {
    "collapsed": true
   },
   "outputs": [],
   "source": []
  },
  {
   "cell_type": "code",
   "execution_count": null,
   "metadata": {
    "ExecuteTime": {
     "end_time": "2018-10-15T14:27:10.011114Z",
     "start_time": "2018-10-15T14:23:55.696Z"
    },
    "collapsed": true,
    "scrolled": false
   },
   "outputs": [],
   "source": [
    "from time import time\n",
    "from sklearn import metrics\n",
    "from sklearn.cluster import KMeans\n",
    "from sklearn.decomposition import PCA\n",
    "from sklearn.preprocessing import scale\n",
    "\n",
    "\n",
    "data = scale(feat_df)\n",
    "pca = PCA(n_components=2).fit(data)\n",
    "kmeans = KMeans(init='k-means++', n_clusters=2, n_init=2)\n",
    "kmeans.fit(data)\n",
    "\n",
    "def bench_k_means(estimator, name, data):\n",
    "    t0 = time()\n",
    "    estimator.fit(data)\n",
    "    print('{} {} {} {}'\n",
    "          .format(name, (time() - t0), estimator.inertia_,\n",
    "             metrics.silhouette_score(data, estimator.labels_,\n",
    "                                      metric='euclidean',\n",
    "                                      sample_size=len(feat_df))))\n",
    "\n",
    "bench_k_means(KMeans(init='k-means++', n_clusters=2, n_init=2),\n",
    "              name=\"k-means++\", data=data)\n",
    "\n",
    "bench_k_means(KMeans(init='random', n_clusters=2, n_init=2),\n",
    "              name=\"random\", data=data)\n",
    "\n",
    "\n",
    "# visualization\n",
    "\n",
    "pca = PCA(n_components=2)\n",
    "reduced_data = pca.fit_transform(data)\n",
    "kmeans = KMeans(init='k-means++', n_clusters=2, n_init=2)\n",
    "kmeans.fit(reduced_data)\n",
    "\n",
    "print(pca.explained_variance_ratio_)\n",
    "\n",
    "# Step size of the mesh. Decrease to increase the quality of the VQ.\n",
    "h = .02     # point in the mesh [x_min, x_max]x[y_min, y_max].\n",
    "\n",
    "# Plot the decision boundary. For that, we will assign a color to each\n",
    "x_min, x_max = reduced_data[:, 0].min() - 1, reduced_data[:, 0].max() + 1\n",
    "y_min, y_max = reduced_data[:, 1].min() - 1, reduced_data[:, 1].max() + 1\n",
    "xx, yy = np.meshgrid(np.arange(x_min, x_max, h), np.arange(y_min, y_max, h))\n",
    "\n",
    "# Obtain labels for each point in mesh. Use last trained model.\n",
    "Z = kmeans.predict(np.c_[xx.ravel(), yy.ravel()])\n",
    "\n",
    "# Put the result into a color plot\n",
    "Z = Z.reshape(xx.shape)\n",
    "plt.figure(1)\n",
    "plt.clf()\n",
    "plt.imshow(Z, interpolation='nearest',\n",
    "           extent=(xx.min(), xx.max(), yy.min(), yy.max()),\n",
    "           cmap=plt.cm.Paired,\n",
    "           aspect='auto', origin='lower')\n",
    "\n",
    "plt.plot(reduced_data[:, 0], reduced_data[:, 1], 'k.', markersize=2)\n",
    "# Plot the centroids as a white X\n",
    "centroids = kmeans.cluster_centers_\n",
    "plt.scatter(centroids[:, 0], centroids[:, 1],\n",
    "            marker='x', s=169, linewidths=3,\n",
    "            color='w', zorder=10)\n",
    "plt.title('K-means clustering on the digits dataset (PCA-reduced data)\\n'\n",
    "          'Centroids are marked with white cross')\n",
    "plt.xlim(x_min, x_max)\n",
    "plt.ylim(y_min, y_max)\n",
    "plt.xticks(())\n",
    "plt.yticks(())\n",
    "plt.show()\n"
   ]
  },
  {
   "cell_type": "code",
   "execution_count": null,
   "metadata": {
    "collapsed": true
   },
   "outputs": [],
   "source": []
  },
  {
   "cell_type": "code",
   "execution_count": null,
   "metadata": {
    "collapsed": true
   },
   "outputs": [],
   "source": []
  },
  {
   "cell_type": "code",
   "execution_count": null,
   "metadata": {
    "ExecuteTime": {
     "end_time": "2018-10-15T14:27:10.012090Z",
     "start_time": "2018-10-15T14:23:55.698Z"
    },
    "collapsed": true
   },
   "outputs": [],
   "source": [
    "# from ds_utils.utils.spark_helpers import get_spark_context\n",
    "# from ds_etl.data_sources.admin_tool import AdminTool\n",
    "\n",
    "# import pyspark as psp\n",
    "# from pyspark.sql import SparkSession\n",
    "\n",
    "\n",
    "# sc, sqlContext = get_spark_context()\n",
    "# spark = SparkSession(sc)\n",
    "\n"
   ]
  },
  {
   "cell_type": "code",
   "execution_count": null,
   "metadata": {
    "ExecuteTime": {
     "end_time": "2018-10-12T14:41:05.998709Z",
     "start_time": "2018-10-12T14:41:05.959105Z"
    },
    "collapsed": true
   },
   "outputs": [],
   "source": []
  },
  {
   "cell_type": "code",
   "execution_count": null,
   "metadata": {
    "collapsed": true
   },
   "outputs": [],
   "source": []
  }
 ],
 "metadata": {
  "kernelspec": {
   "display_name": "Python 3",
   "language": "python",
   "name": "python3"
  },
  "language_info": {
   "codemirror_mode": {
    "name": "ipython",
    "version": 3
   },
   "file_extension": ".py",
   "mimetype": "text/x-python",
   "name": "python",
   "nbconvert_exporter": "python",
   "pygments_lexer": "ipython3",
   "version": "3.6.3"
  }
 },
 "nbformat": 4,
 "nbformat_minor": 2
}
