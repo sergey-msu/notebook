{
 "cells": [
  {
   "cell_type": "markdown",
   "metadata": {},
   "source": [
    "# Peer-graded Assignment: Эксперименты с моделью"
   ]
  },
  {
   "cell_type": "markdown",
   "metadata": {},
   "source": [
    "## Загрузка данных"
   ]
  },
  {
   "cell_type": "code",
   "execution_count": 157,
   "metadata": {
    "collapsed": true
   },
   "outputs": [],
   "source": [
    "import math\n",
    "import numpy as np\n",
    "import pandas as pd\n",
    "import matplotlib.pyplot as plt\n",
    "from matplotlib.lines import Line2D\n",
    "from sklearn.feature_selection import SelectFromModel\n",
    "from sklearn.model_selection import StratifiedKFold, GridSearchCV, cross_val_score, train_test_split, learning_curve\n",
    "from sklearn.base import BaseEstimator, TransformerMixin\n",
    "from sklearn.pipeline import make_pipeline, Pipeline, FeatureUnion\n",
    "from sklearn.preprocessing import FunctionTransformer, Imputer, StandardScaler\n",
    "from sklearn.utils.validation import check_is_fitted\n",
    "from sklearn.svm import LinearSVC\n",
    "from sklearn.metrics import matthews_corrcoef\n",
    "from sklearn.metrics import roc_auc_score\n",
    "from xgboost import XGBClassifier"
   ]
  },
  {
   "cell_type": "code",
   "execution_count": 8,
   "metadata": {
    "collapsed": true
   },
   "outputs": [],
   "source": [
    "def load_data():\n",
    "    train_df = pd.read_csv(r'orange_small_churn_train_data.csv', index_col='ID')\n",
    "    test_df  = pd.read_csv(r'orange_small_churn_test_data.csv', index_col='ID')\n",
    "    X = train_df.drop(['labels'], axis=1)\n",
    "    y = train_df['labels'].apply(lambda x: 1 if x==1 else 0)\n",
    "\n",
    "    X_train, X_hold, \\\n",
    "    y_train, y_hold = train_test_split(X, y,\n",
    "                                       test_size=0.2,\n",
    "                                       random_state=9,\n",
    "                                       shuffle=True,\n",
    "                                       stratify=y)\n",
    "    X_test = test_df\n",
    "\n",
    "    return X_train, X_hold, X_test, y_train, y_hold"
   ]
  },
  {
   "cell_type": "markdown",
   "metadata": {},
   "source": [
    "## Вспомогательные функции, пайплайн"
   ]
  },
  {
   "cell_type": "code",
   "execution_count": 23,
   "metadata": {
    "collapsed": true
   },
   "outputs": [],
   "source": [
    "def get_pipeline(model,\n",
    "                  missing='mean',\n",
    "                  encoder='dummy', enc_params=None,\n",
    "                  selector=None,   sel_params=None):\n",
    "\n",
    "    # choose encoder\n",
    "\n",
    "    enc_params = {} if enc_params is None else enc_params\n",
    "    if encoder == 'dummy':\n",
    "        encoder = DummyEncoder(**enc_params)\n",
    "    elif encoder == 'mean_target':\n",
    "        encoder = MeanTargetEncoder(**enc_params)\n",
    "    elif encoder == 'frequency':\n",
    "        encoder = FrequencyEncoder(**enc_params)\n",
    "    else:\n",
    "        encoder = NopeTransformer()\n",
    "\n",
    "    # choose selector\n",
    "\n",
    "    sel_params = {} if sel_params is None else sel_params\n",
    "    if selector == 'lasso_svc':\n",
    "        selector = LassoSelector(**sel_params)\n",
    "    elif selector == 'correlation':\n",
    "        selector = CorrelationSelector(**sel_params)\n",
    "    else:\n",
    "        selector = NopeTransformer()\n",
    "\n",
    "    # construct pipeline\n",
    "\n",
    "    pipeline = Pipeline(steps=[\n",
    "            # processing\n",
    "            ('processing', FeatureUnion([\n",
    "\n",
    "                # numeric features\n",
    "                ('numeric', Pipeline(steps=[\n",
    "                    ('selecting',      FunctionTransformer(lambda data: data.iloc[:, :190], validate=False)),\n",
    "                    ('float_nan_mean', Imputer(strategy=missing)),\n",
    "                    ('scaling',        StandardScaler())\n",
    "                ])),\n",
    "\n",
    "                # categorical features\n",
    "                ('categorical',   Pipeline(steps=[\n",
    "                    ('selecting', FunctionTransformer(lambda data: data.iloc[:, 190:], validate=False)),\n",
    "                    ('encoding',  encoder)\n",
    "                ]))\n",
    "            ])),\n",
    "\n",
    "            # feature selection\n",
    "            ('feature_selection', selector),\n",
    "\n",
    "            # model\n",
    "            ('model', model)\n",
    "        ])\n",
    "\n",
    "    return pipeline\n",
    "\n",
    "\n",
    "class DummyEncoder(BaseEstimator, TransformerMixin):\n",
    "    '''\n",
    "    Encodes categorical features as one-hot variables with max_categories restriction\n",
    "    '''\n",
    "    def __init__(self, columns=None, max_categories=200):\n",
    "        self.columns = columns\n",
    "        self.dummy_columns = None\n",
    "        self.max_categories = max_categories\n",
    "\n",
    "\n",
    "    def fit(self, X, y=None, **kwargs):\n",
    "        self.dummy_columns = None\n",
    "        return self\n",
    "\n",
    "\n",
    "    def transform(self, X, y=None, **kwargs):\n",
    "        if self.max_categories is not None:\n",
    "            X = X[self.columns] if self.columns is not None else X.copy()\n",
    "            for col in X.columns:\n",
    "                top_cats = X[col].value_counts()[:self.max_categories].index.values\n",
    "                X[col] = X[col].apply(lambda x: x if (x in top_cats or x is None) else 'aggr')\n",
    "\n",
    "        dummy_df = pd.get_dummies(X, columns=self.columns, sparse=True, dummy_na=True)\n",
    "        new_cols = dummy_df.columns.values\n",
    "        if self.dummy_columns is None:\n",
    "            self.dummy_columns = new_cols\n",
    "            return dummy_df\n",
    "        else:\n",
    "            res_df = pd.DataFrame()\n",
    "            for col in self.dummy_columns:\n",
    "                res_df[col] = dummy_df[col] if col in new_cols else np.zeros((len(X),), dtype=int)\n",
    "        return res_df\n",
    "\n",
    "\n",
    "class MeanTargetEncoder(BaseEstimator, TransformerMixin):\n",
    "    '''\n",
    "    Encodes categorical features by its mean on target variable\n",
    "    '''\n",
    "    def __init__(self, columns=None):\n",
    "        self.columns = columns\n",
    "        self.dict = None\n",
    "        return\n",
    "\n",
    "\n",
    "    def fit(self, X, y=None, **kwargs):\n",
    "        columns = X.columns if self.columns is None else self.columns\n",
    "        dict = {}\n",
    "\n",
    "        X = X.astype(str)\n",
    "\n",
    "        for col in columns:\n",
    "            vals = X[col].unique()\n",
    "            dict[col] = { val: y[X[col] == val].mean() for val in vals }\n",
    "\n",
    "        self.dict = dict\n",
    "\n",
    "        return self\n",
    "\n",
    "\n",
    "    def transform(self, X, y=None, **kwargs):\n",
    "        check_is_fitted(self, ['dict'])\n",
    "\n",
    "        X = X.astype(str)\n",
    "        columns = X.columns if self.columns is None else self.columns\n",
    "\n",
    "        for col in columns:\n",
    "            col_dict = self.dict[col]\n",
    "            X[col] = X[col].apply(lambda x: col_dict.get(x, 0))\n",
    "\n",
    "        return X\n",
    "\n",
    "\n",
    "class FrequencyEncoder(BaseEstimator, TransformerMixin):\n",
    "    '''\n",
    "    Encodes categorical features by its frequency\n",
    "    '''\n",
    "    def __init__(self, columns=None):\n",
    "        self.columns = columns\n",
    "        self.dict = None\n",
    "        return\n",
    "\n",
    "\n",
    "    def fit(self, X, y=None, **kwargs):\n",
    "        columns = X.columns if self.columns is None else self.columns\n",
    "        dict = {}\n",
    "\n",
    "        X = X.astype(str)\n",
    "        n = len(X)\n",
    "\n",
    "        for col in columns:\n",
    "            vals = X[col].unique()\n",
    "            dict[col] = { val: (X[col] == val).sum()/n for val in vals }\n",
    "\n",
    "        self.dict = dict\n",
    "\n",
    "        return self\n",
    "\n",
    "\n",
    "    def transform(self, X, y=None, **kwargs):\n",
    "        check_is_fitted(self, ['dict'])\n",
    "        X = X.astype(str)\n",
    "        columns = X.columns if self.columns is None else self.columns\n",
    "\n",
    "        for col in columns:\n",
    "            col_dict = self.dict[col]\n",
    "            X[col] = X[col].apply(lambda x: col_dict.get(x, 0))\n",
    "\n",
    "        return X\n",
    "\n",
    "\n",
    "class CorrelationSelector(BaseEstimator, TransformerMixin):\n",
    "    def __init__(self, n_top=100):\n",
    "        self.n_top = n_top\n",
    "\n",
    "\n",
    "    def fit(self, X, y=None):\n",
    "\n",
    "        if not isinstance(X, pd.DataFrame):\n",
    "            X = pd.DataFrame(X)\n",
    "\n",
    "        # 1. filter out const columns\n",
    "        vc = X.apply(lambda col: len(col.value_counts()))\n",
    "        all_cols = vc[vc > 1].index.values\n",
    "\n",
    "        # 2. correlation feature selection\n",
    "        num_corrs = X[all_cols].apply(lambda col: correlation(col.values, y), axis=0)\n",
    "        top_corrs = num_corrs.abs().sort_values(ascending=False)[:self.n_top]\n",
    "\n",
    "        self.new_cols = sorted(top_corrs.index)\n",
    "\n",
    "        return self\n",
    "\n",
    "\n",
    "    def transform(self, X):\n",
    "        check_is_fitted(self, ['new_cols'])\n",
    "\n",
    "        if not isinstance(X, pd.DataFrame):\n",
    "            X = pd.DataFrame(X)\n",
    "\n",
    "        return X.loc[:, self.new_cols]\n",
    "\n",
    "\n",
    "class LassoSelector(BaseEstimator, TransformerMixin):\n",
    "    def __init__(self, threshold=None, C=0.1):\n",
    "        self.threshold = threshold\n",
    "        self.C = C\n",
    "        return\n",
    "\n",
    "\n",
    "    def fit(self, X, y=None):\n",
    "        model = LinearSVC(C=self.C, penalty='l1', dual=False)\n",
    "        model.fit(X, y)\n",
    "        self.selector = SelectFromModel(model, prefit=True, threshold=self.threshold)\n",
    "        return self\n",
    "\n",
    "\n",
    "    def transform(self, X):\n",
    "        check_is_fitted(self, ['selector'])\n",
    "        return self.selector.transform(X)\n",
    "\n",
    "\n",
    "class NopeTransformer(BaseEstimator, TransformerMixin):\n",
    "    def fit(self, X, y=None):\n",
    "        return self\n",
    "\n",
    "    def transform(self, X):\n",
    "        return X\n",
    "\n",
    "\n",
    "def filter_outliers(X, y, cols, alpha):\n",
    "    print('filtering outliers...')\n",
    "    for col in cols:\n",
    "        var = X[col]\n",
    "        var_churn = var[y==1]\n",
    "        var_loyal = var[y==0]\n",
    "\n",
    "        outliers = len(X)\n",
    "        condition = None\n",
    "        col_a = alpha\n",
    "\n",
    "        while outliers > 200:\n",
    "            churn_min, churn_max = var_churn.quantile([col_a, 1 - col_a])\n",
    "            loyal_min, loyal_max = var_loyal.quantile([col_a, 1 - col_a])\n",
    "\n",
    "            condition = var.isnull() | \\\n",
    "                        ((y==1) & (churn_min <= var) & (var <= churn_max)) | \\\n",
    "                        ((y==0) & (loyal_min <= var) & (var <= loyal_max))\n",
    "\n",
    "            outliers = len(X) - len(X[condition])\n",
    "            col_a /= 2\n",
    "\n",
    "        if condition is not None:\n",
    "            X = X[condition]\n",
    "            y = y[condition]\n",
    "    print('finished: ', len(X))\n",
    "\n",
    "    return X, y\n",
    "\n",
    "\n",
    "def undersample(X, y, coeff):\n",
    "\n",
    "    np.random.seed(9)\n",
    "\n",
    "    churn = X[y==1].index\n",
    "    loyal = X[y==0].index.values\n",
    "    np.random.shuffle(loyal)\n",
    "    u_loyal = loyal[: int(coeff*len(loyal))]\n",
    "\n",
    "    u_ids = list(churn) + list(u_loyal)\n",
    "\n",
    "    return X.ix[u_ids, :], y.ix[u_ids]\n",
    "\n",
    "\n",
    "def correlation(x, y):\n",
    "    if set(np.unique(x)) == { 0.0, 1.0 }:\n",
    "        return matthews_corrcoef(x, y)\n",
    "    else:\n",
    "        return point_biserial_corr(x, y)\n",
    "\n",
    "\n",
    "def point_biserial_corr(x, y):\n",
    "    y = y[~np.isnan(x)]\n",
    "    x = x[~np.isnan(x)]\n",
    "    p = y.mean()\n",
    "    q = 1 - p\n",
    "    ex = x.mean()\n",
    "    sx = x.std(ddof=0)\n",
    "\n",
    "    px = x[y==1]\n",
    "    nx = x[y==0]\n",
    "\n",
    "    mpx = px.mean() if len(px)>0 else 0\n",
    "    mnx = nx.mean() if len(nx)>0 else 0\n",
    "\n",
    "    return (mpx - mnx)/sx*math.sqrt(p*q)"
   ]
  },
  {
   "cell_type": "markdown",
   "metadata": {},
   "source": [
    "## Загрузка и препроцессинг данных (удаление выбросов):"
   ]
  },
  {
   "cell_type": "code",
   "execution_count": 27,
   "metadata": {
    "scrolled": false
   },
   "outputs": [
    {
     "name": "stdout",
     "output_type": "stream",
     "text": [
      "filtering outliers...\n",
      "finished:  25749\n"
     ]
    }
   ],
   "source": [
    "X_train, X_hold, X_test, y_train, y_hold = load_data()\n",
    "X_train, y_train = filter_outliers(X_train, y_train, X_train.columns[:190], 0.01)\n",
    "\n",
    "cv = StratifiedKFold(n_splits=7, shuffle=True, random_state=9)"
   ]
  },
  {
   "cell_type": "markdown",
   "metadata": {},
   "source": [
    "## Инструкции"
   ]
  },
  {
   "cell_type": "markdown",
   "metadata": {},
   "source": [
    "1\\. Начнем с простого. Давайте оценим как много объектов действительно нужно для построения качественной модели. Для обучения доступна достаточно большая выборка и может так оказаться, что начиная с некоторого момента рост размера обучающей выборки перестает влиять на качество модели. Постройте кривые обучения, обучая модель на выборках разного размера начиная с небольшого количество объектов в обучающей выборке и постепенно наращивая её размер с некоторым шагом. Обратите внимание на `sklearn.model_selection.learning_curve`"
   ]
  },
  {
   "cell_type": "code",
   "execution_count": 10,
   "metadata": {},
   "outputs": [
    {
     "name": "stdout",
     "output_type": "stream",
     "text": [
      "filtering outliers...\n",
      "finished:  25749\n"
     ]
    },
    {
     "data": {
      "image/png": "[encoded data removed]",
      "text/plain": [
       "<matplotlib.figure.Figure at 0x1fbb5e5f6d8>"
      ]
     },
     "metadata": {},
     "output_type": "display_data"
    }
   ],
   "source": [
    "model = XGBClassifier(learning_rate=0.1, n_estimators=120, random_state=9, n_jobs=-1)\n",
    "pipeline = get_pipeline(model)\n",
    "\n",
    "train_sizes, train_scores, test_scores = learning_curve(pipeline,\n",
    "                                                        X_train, y_train,\n",
    "                                                        train_sizes=np.arange(0.1, 1.0, 0.2),\n",
    "                                                        cv=cv, scoring='roc_auc')\n",
    "\n",
    "plt.grid(True)\n",
    "plt.plot(train_sizes, train_scores.mean(axis = 1), 'g-', marker='o', label='train')\n",
    "plt.plot(train_sizes, test_scores.mean(axis = 1), 'r-', marker='o', label='test')\n",
    "plt.ylim((0.0, 1.05))\n",
    "plt.legend(loc='lower right')\n",
    "plt.show()"
   ]
  },
  {
   "cell_type": "markdown",
   "metadata": {},
   "source": [
    "**Выводы:** \n",
    "Видно, что с увеличением объема выборки качество на тесте повышается, но остается практически неизменным начинаю уже с 30% объема. Это говорит о том, что выборку можно уменьшить для увеличение скорости обучения и лучшей балансировки классов без потери качества классификации "
   ]
  },
  {
   "cell_type": "markdown",
   "metadata": {},
   "source": [
    "2\\. Часто несбалансированные по классам выборки приводят к различным проблемам при обучении моделей. Давайте попробуем по-разному обработать выборку, поиграть с распределением объектов по классам и сделать выводы о том, как соотношение классов влияет на качество модели."
   ]
  },
  {
   "cell_type": "markdown",
   "metadata": {},
   "source": [
    "2.1\\. Задайте веса объектам так, чтобы соотношение классов с учетом весов объектов изменилось. Попробуйте не менее трёх различных вариантов весов. Меняются ли результаты классификации? Как это сказывается на качестве модели? Какой вариант выглядит наиболее оптимальным с точки зрения качества?"
   ]
  },
  {
   "cell_type": "code",
   "execution_count": 15,
   "metadata": {},
   "outputs": [
    {
     "name": "stdout",
     "output_type": "stream",
     "text": [
      "0.5 0.5\n",
      "1 0.735232349391\n",
      "10 0.728518569046\n"
     ]
    }
   ],
   "source": [
    "ws = [0.5, 1, 10]\n",
    "for w in ws:\n",
    "    weights = np.ones_like(y_train)\n",
    "    weights[y_train==1] = w\n",
    "\n",
    "    model = XGBClassifier(learning_rate=0.1, n_estimators=120, random_state=9, n_jobs=-1)\n",
    "    pipeline = get_pipeline(model)\n",
    "\n",
    "    score = cross_val_score(pipeline,\n",
    "                            X_train, y_train,\n",
    "                            scoring='roc_auc', cv=cv,\n",
    "                            fit_params={ 'model__sample_weight': weights})\n",
    "    print(w, score.mean())"
   ]
  },
  {
   "cell_type": "markdown",
   "metadata": {},
   "source": [
    "**Выводы:** \n",
    "Увеличение веса меньшего класса положительного влияния на результат не оказывает. Оставим веса по умолчанию."
   ]
  },
  {
   "cell_type": "markdown",
   "metadata": {},
   "source": [
    "2.2\\. Примените к выборке технологию undersampling: для этого нужно убрать из обучения некоторое количество объектов большего класса таким образом, чтобы соотношение классов изменилось. Попробуйте не менее трёх различных вариантов undersampling (варианты могут отличаться как по количество отфильтрованных объектов, так и по принципу выборка объектов для отсеивания из выборки). Меняются ли результаты классификации? Как это сказывается на качестве модели? Какой вариант выглядит наиболее оптимальным с точки зрения качества?"
   ]
  },
  {
   "cell_type": "code",
   "execution_count": 22,
   "metadata": {},
   "outputs": [
    {
     "name": "stderr",
     "output_type": "stream",
     "text": [
      "C:\\ProgramData\\Anaconda3\\lib\\site-packages\\ipykernel_launcher.py:264: DeprecationWarning: \n",
      ".ix is deprecated. Please use\n",
      ".loc for label based indexing or\n",
      ".iloc for positional indexing\n",
      "\n",
      "See the documentation here:\n",
      "http://pandas.pydata.org/pandas-docs/stable/indexing.html#ix-indexer-is-deprecated\n"
     ]
    },
    {
     "name": "stdout",
     "output_type": "stream",
     "text": [
      "0.5 0.752366656363\n",
      "0.2 0.742812215815\n",
      "0.1 0.750040272569\n",
      "0.05 0.715039394554\n"
     ]
    }
   ],
   "source": [
    "u_coeffs = [0.5, 0.2, 0.1, 0.05]\n",
    "for coeff in u_coeffs:\n",
    "    X_utrain, y_utrain = undersample(X_train, y_train, coeff)\n",
    "\n",
    "    model = XGBClassifier(learning_rate=0.1, n_estimators=120, random_state=9, n_jobs=-1)\n",
    "    pipeline = get_pipeline(model)\n",
    "\n",
    "    score = cross_val_score(pipeline,\n",
    "                            X_utrain, y_utrain,\n",
    "                            scoring='roc_auc', cv=cv)\n",
    "    print(coeff, score.mean())"
   ]
  },
  {
   "cell_type": "markdown",
   "metadata": {},
   "source": [
    "**Выводы:** \n",
    "Особого влияния на результат undersampling не оказывает. При уменьшении объема большего класса кажество даже может несколько упасть."
   ]
  },
  {
   "cell_type": "markdown",
   "metadata": {},
   "source": [
    "3\\. Теперь перейдем к работе с признаками. Ранее вы реализовали несколько стратегий для обработки пропущенных значений. Сравните эти стратегии между собой с помощью оценки качества моделей кросс-валидации, построенных на датасетах с использованием различных стратегий. Как обработка пропущенных значений сказывается на качестве модели? Какой вариант выглядит наиболее оптимальным с точки зрения качества?"
   ]
  },
  {
   "cell_type": "code",
   "execution_count": 24,
   "metadata": {},
   "outputs": [
    {
     "name": "stdout",
     "output_type": "stream",
     "text": [
      "mean 0.754460943002\n",
      "median 0.748220768529\n",
      "most_frequent 0.749355845966\n"
     ]
    }
   ],
   "source": [
    "missings = ['mean', 'median', 'most_frequent']\n",
    "for missing in missings:\n",
    "    model = XGBClassifier(learning_rate=0.1, n_estimators=120, random_state=9, n_jobs=-1)\n",
    "    pipeline = get_pipeline(model, missing=missing)\n",
    "\n",
    "    score = cross_val_score(pipeline,\n",
    "                            X_train, y_train,\n",
    "                            scoring='roc_auc', cv=cv)\n",
    "    print(missing, score.mean())"
   ]
  },
  {
   "cell_type": "markdown",
   "metadata": {},
   "source": [
    "**Выводы:** \n",
    "Заполнение пропущенных значений средним показывает наиболее хорошие результаты"
   ]
  },
  {
   "cell_type": "markdown",
   "metadata": {},
   "source": [
    "4\\. Также вы уже реализовали несколько стратегий для обработки категориальных признаков. Сравните эти стратегии между собой с помощью оценки качества моделей по кросс-валидации, построенных на датасетах с использованием различных стратегий. Как обработка категориальных признаков сказывается на качестве модели? Какой вариант выглядит наиболее оптимальным с точки зрения качества?"
   ]
  },
  {
   "cell_type": "code",
   "execution_count": 26,
   "metadata": {},
   "outputs": [
    {
     "name": "stdout",
     "output_type": "stream",
     "text": [
      "frequency 0.746875588496\n",
      "mean_target 0.58789029349\n",
      "dummy 0.747168555458\n"
     ]
    }
   ],
   "source": [
    "encoders = ['frequency', 'mean_target', 'dummy']\n",
    "for encoder in encoders:\n",
    "    model = XGBClassifier(learning_rate=0.1, n_estimators=100, random_state=9, n_jobs=-1)\n",
    "    pipeline = get_pipeline(model, encoder=encoder)\n",
    "\n",
    "    score = cross_val_score(pipeline,\n",
    "                            X_train, y_train,\n",
    "                            scoring='roc_auc', cv=cv)\n",
    "    print(encoder, score.mean())"
   ]
  },
  {
   "cell_type": "markdown",
   "metadata": {},
   "source": [
    "**Выводы:** \n",
    "Среди всех методов энкодинга категориальных переменных лучше всего себя показал стандартный dummy энкодинг."
   ]
  },
  {
   "cell_type": "markdown",
   "metadata": {},
   "source": [
    "5\\. Все ли признаки оказались полезными для построения моделей? Проведите процедуру отбора признаков, попробуйте разные варианты отбора (обратите внимание на модуль `sklearn.feature_selection`). Например, можно выбрасывать случайные признаки или строить отбор на основе l1-регуляризации - отфильтровать из обучения признаки, которые получат нулевой вес при построении регрессии с l1-регуляризацией (`sklearn.linear_model.Lasso`). И всегда можно придумать что-то своё=) Попробуйте как минимум 2 различные стратегии, сравните результаты. Помог ли отбор признаков улучшить качество модели? Поясните свой ответ."
   ]
  },
  {
   "cell_type": "code",
   "execution_count": 28,
   "metadata": {},
   "outputs": [
    {
     "name": "stdout",
     "output_type": "stream",
     "text": [
      "correlation {'n_top': 30} 0.755727490921\n",
      "correlation {'n_top': 50} 0.753438654871\n",
      "correlation {'n_top': 100} 0.754566148637\n",
      "lasso_svc {'C': 0.01} 0.752965929823\n",
      "lasso_svc {'C': 1} 0.753467819904\n",
      "lasso_svc {'C': 10} 0.753133505488\n"
     ]
    }
   ],
   "source": [
    "selectors = [\n",
    "    ('correlation', { 'n_top': 30 }),\n",
    "    ('correlation', { 'n_top': 50 }),\n",
    "    ('correlation', { 'n_top': 100 }),\n",
    "    ('lasso_svc',   { 'C': 0.01 }),\n",
    "    ('lasso_svc',   { 'C': 1 }),\n",
    "    ('lasso_svc',   { 'C': 10 }),\n",
    "   ]\n",
    "for selector, sel_params in selectors:\n",
    "    model = XGBClassifier(learning_rate=0.1, n_estimators=100, random_state=9, n_jobs=-1)\n",
    "    pipeline = get_pipeline(model, selector=selector, sel_params=sel_params)\n",
    "    score = cross_val_score(pipeline,\n",
    "                            X_train, y_train,\n",
    "                            scoring='roc_auc', cv=cv)\n",
    "    print(selector, sel_params, score.mean())"
   ]
  },
  {
   "cell_type": "markdown",
   "metadata": {},
   "source": [
    "**Выводы:**\n",
    "Не похоже, чтобы стратегия отбора признаков оказывала существенное влияние на результат.\n",
    "Выберим обычный отбор по коррелляции с максимальным числом признаков равным 30"
   ]
  },
  {
   "cell_type": "markdown",
   "metadata": {},
   "source": [
    "6\\. Подберите оптимальные параметры модели. Обратите внимание, что в зависимости от того, как вы обработали исходные данные, сделали ли балансировку классов, сколько объектов оставили в обучающей выборке и др. оптимальные значения параметров могут меняться. Возьмите наилучшее из ваших решений на текущий момент и проведите процедуру подбора параметров модели (обратите внимание на `sklearn.model_selection.GridSearchCV`) Как подбор параметров повлиял на качество модели?"
   ]
  },
  {
   "cell_type": "code",
   "execution_count": 31,
   "metadata": {},
   "outputs": [
    {
     "name": "stdout",
     "output_type": "stream",
     "text": [
      "Fitting 4 folds for each of 18 candidates, totalling 72 fits\n",
      "[CV] model__learning_rate=0.01, model__max_depth=3, model__n_estimators=100 \n",
      "[CV]  model__learning_rate=0.01, model__max_depth=3, model__n_estimators=100, score=0.7205336688577049, total=  43.9s\n",
      "[CV] model__learning_rate=0.01, model__max_depth=3, model__n_estimators=100 \n"
     ]
    },
    {
     "name": "stderr",
     "output_type": "stream",
     "text": [
      "[Parallel(n_jobs=1)]: Done   1 out of   1 | elapsed:   52.1s remaining:    0.0s\n"
     ]
    },
    {
     "name": "stdout",
     "output_type": "stream",
     "text": [
      "[CV]  model__learning_rate=0.01, model__max_depth=3, model__n_estimators=100, score=0.7010964677309904, total=  43.1s\n",
      "[CV] model__learning_rate=0.01, model__max_depth=3, model__n_estimators=100 \n"
     ]
    },
    {
     "name": "stderr",
     "output_type": "stream",
     "text": [
      "[Parallel(n_jobs=1)]: Done   2 out of   2 | elapsed:  1.7min remaining:    0.0s\n"
     ]
    },
    {
     "name": "stdout",
     "output_type": "stream",
     "text": [
      "[CV]  model__learning_rate=0.01, model__max_depth=3, model__n_estimators=100, score=0.7253059693822883, total=  43.2s\n",
      "[CV] model__learning_rate=0.01, model__max_depth=3, model__n_estimators=100 \n"
     ]
    },
    {
     "name": "stderr",
     "output_type": "stream",
     "text": [
      "[Parallel(n_jobs=1)]: Done   3 out of   3 | elapsed:  2.6min remaining:    0.0s\n"
     ]
    },
    {
     "name": "stdout",
     "output_type": "stream",
     "text": [
      "[CV]  model__learning_rate=0.01, model__max_depth=3, model__n_estimators=100, score=0.728902125513229, total=  43.3s\n",
      "[CV] model__learning_rate=0.01, model__max_depth=3, model__n_estimators=200 \n"
     ]
    },
    {
     "name": "stderr",
     "output_type": "stream",
     "text": [
      "[Parallel(n_jobs=1)]: Done   4 out of   4 | elapsed:  3.5min remaining:    0.0s\n"
     ]
    },
    {
     "name": "stdout",
     "output_type": "stream",
     "text": [
      "[CV]  model__learning_rate=0.01, model__max_depth=3, model__n_estimators=200, score=0.7329196122521782, total=  43.5s\n",
      "[CV] model__learning_rate=0.01, model__max_depth=3, model__n_estimators=200 \n"
     ]
    },
    {
     "name": "stderr",
     "output_type": "stream",
     "text": [
      "[Parallel(n_jobs=1)]: Done   5 out of   5 | elapsed:  4.3min remaining:    0.0s\n"
     ]
    },
    {
     "name": "stdout",
     "output_type": "stream",
     "text": [
      "[CV]  model__learning_rate=0.01, model__max_depth=3, model__n_estimators=200, score=0.7075981576601496, total=  43.6s\n",
      "[CV] model__learning_rate=0.01, model__max_depth=3, model__n_estimators=200 \n"
     ]
    },
    {
     "name": "stderr",
     "output_type": "stream",
     "text": [
      "[Parallel(n_jobs=1)]: Done   6 out of   6 | elapsed:  5.2min remaining:    0.0s\n"
     ]
    },
    {
     "name": "stdout",
     "output_type": "stream",
     "text": [
      "[CV]  model__learning_rate=0.01, model__max_depth=3, model__n_estimators=200, score=0.7327614105751591, total=  43.7s\n",
      "[CV] model__learning_rate=0.01, model__max_depth=3, model__n_estimators=200 \n"
     ]
    },
    {
     "name": "stderr",
     "output_type": "stream",
     "text": [
      "[Parallel(n_jobs=1)]: Done   7 out of   7 | elapsed:  6.1min remaining:    0.0s\n"
     ]
    },
    {
     "name": "stdout",
     "output_type": "stream",
     "text": [
      "[CV]  model__learning_rate=0.01, model__max_depth=3, model__n_estimators=200, score=0.7394334783093565, total=  43.9s\n",
      "[CV] model__learning_rate=0.01, model__max_depth=3, model__n_estimators=300 \n"
     ]
    },
    {
     "name": "stderr",
     "output_type": "stream",
     "text": [
      "[Parallel(n_jobs=1)]: Done   8 out of   8 | elapsed:  6.9min remaining:    0.0s\n"
     ]
    },
    {
     "name": "stdout",
     "output_type": "stream",
     "text": [
      "[CV]  model__learning_rate=0.01, model__max_depth=3, model__n_estimators=300, score=0.7432515255828224, total=  46.5s\n",
      "[CV] model__learning_rate=0.01, model__max_depth=3, model__n_estimators=300 \n"
     ]
    },
    {
     "name": "stderr",
     "output_type": "stream",
     "text": [
      "[Parallel(n_jobs=1)]: Done   9 out of   9 | elapsed:  7.8min remaining:    0.0s\n"
     ]
    },
    {
     "name": "stdout",
     "output_type": "stream",
     "text": [
      "[CV]  model__learning_rate=0.01, model__max_depth=3, model__n_estimators=300, score=0.7128693007257547, total=  44.0s\n",
      "[CV] model__learning_rate=0.01, model__max_depth=3, model__n_estimators=300 \n",
      "[CV]  model__learning_rate=0.01, model__max_depth=3, model__n_estimators=300, score=0.7413726875085188, total=  45.1s\n",
      "[CV] model__learning_rate=0.01, model__max_depth=3, model__n_estimators=300 \n",
      "[CV]  model__learning_rate=0.01, model__max_depth=3, model__n_estimators=300, score=0.7472238440002595, total=  44.1s\n",
      "[CV] model__learning_rate=0.01, model__max_depth=5, model__n_estimators=100 \n",
      "[CV]  model__learning_rate=0.01, model__max_depth=5, model__n_estimators=100, score=0.7359724176229002, total=  45.9s\n",
      "[CV] model__learning_rate=0.01, model__max_depth=5, model__n_estimators=100 \n",
      "[CV]  model__learning_rate=0.01, model__max_depth=5, model__n_estimators=100, score=0.7022337168018392, total=  45.7s\n",
      "[CV] model__learning_rate=0.01, model__max_depth=5, model__n_estimators=100 \n",
      "[CV]  model__learning_rate=0.01, model__max_depth=5, model__n_estimators=100, score=0.7374046157625164, total=  46.1s\n",
      "[CV] model__learning_rate=0.01, model__max_depth=5, model__n_estimators=100 \n",
      "[CV]  model__learning_rate=0.01, model__max_depth=5, model__n_estimators=100, score=0.7364763756139979, total=  47.9s\n",
      "[CV] model__learning_rate=0.01, model__max_depth=5, model__n_estimators=200 \n",
      "[CV]  model__learning_rate=0.01, model__max_depth=5, model__n_estimators=200, score=0.7441426255510846, total=  47.6s\n",
      "[CV] model__learning_rate=0.01, model__max_depth=5, model__n_estimators=200 \n",
      "[CV]  model__learning_rate=0.01, model__max_depth=5, model__n_estimators=200, score=0.7103293047638, total=  44.5s\n",
      "[CV] model__learning_rate=0.01, model__max_depth=5, model__n_estimators=200 \n",
      "[CV]  model__learning_rate=0.01, model__max_depth=5, model__n_estimators=200, score=0.7426679232713123, total=  44.2s\n",
      "[CV] model__learning_rate=0.01, model__max_depth=5, model__n_estimators=200 \n",
      "[CV]  model__learning_rate=0.01, model__max_depth=5, model__n_estimators=200, score=0.7458192748866396, total=  44.2s\n",
      "[CV] model__learning_rate=0.01, model__max_depth=5, model__n_estimators=300 \n",
      "[CV]  model__learning_rate=0.01, model__max_depth=5, model__n_estimators=300, score=0.749348755502647, total=  45.2s\n",
      "[CV] model__learning_rate=0.01, model__max_depth=5, model__n_estimators=300 \n",
      "[CV]  model__learning_rate=0.01, model__max_depth=5, model__n_estimators=300, score=0.7152760922219525, total=  45.0s\n",
      "[CV] model__learning_rate=0.01, model__max_depth=5, model__n_estimators=300 \n",
      "[CV]  model__learning_rate=0.01, model__max_depth=5, model__n_estimators=300, score=0.7480294485736005, total=  44.8s\n",
      "[CV] model__learning_rate=0.01, model__max_depth=5, model__n_estimators=300 \n",
      "[CV]  model__learning_rate=0.01, model__max_depth=5, model__n_estimators=300, score=0.7501140711293625, total=  45.1s\n",
      "[CV] model__learning_rate=0.1, model__max_depth=3, model__n_estimators=100 \n",
      "[CV]  model__learning_rate=0.1, model__max_depth=3, model__n_estimators=100, score=0.7579620538260091, total=  44.4s\n",
      "[CV] model__learning_rate=0.1, model__max_depth=3, model__n_estimators=100 \n",
      "[CV]  model__learning_rate=0.1, model__max_depth=3, model__n_estimators=100, score=0.727106871892655, total=  44.0s\n",
      "[CV] model__learning_rate=0.1, model__max_depth=3, model__n_estimators=100 \n",
      "[CV]  model__learning_rate=0.1, model__max_depth=3, model__n_estimators=100, score=0.7598296149060718, total=  43.3s\n",
      "[CV] model__learning_rate=0.1, model__max_depth=3, model__n_estimators=100 \n",
      "[CV]  model__learning_rate=0.1, model__max_depth=3, model__n_estimators=100, score=0.7611858951230766, total=  43.2s\n",
      "[CV] model__learning_rate=0.1, model__max_depth=3, model__n_estimators=200 \n",
      "[CV]  model__learning_rate=0.1, model__max_depth=3, model__n_estimators=200, score=0.7579518510866464, total=  43.5s\n",
      "[CV] model__learning_rate=0.1, model__max_depth=3, model__n_estimators=200 \n",
      "[CV]  model__learning_rate=0.1, model__max_depth=3, model__n_estimators=200, score=0.7282772854132545, total=  44.8s\n",
      "[CV] model__learning_rate=0.1, model__max_depth=3, model__n_estimators=200 \n",
      "[CV]  model__learning_rate=0.1, model__max_depth=3, model__n_estimators=200, score=0.7623238730829308, total=  43.5s\n",
      "[CV] model__learning_rate=0.1, model__max_depth=3, model__n_estimators=200 \n",
      "[CV]  model__learning_rate=0.1, model__max_depth=3, model__n_estimators=200, score=0.7630407354198511, total=  43.5s\n",
      "[CV] model__learning_rate=0.1, model__max_depth=3, model__n_estimators=300 \n",
      "[CV]  model__learning_rate=0.1, model__max_depth=3, model__n_estimators=300, score=0.7570545565980569, total=  43.9s\n",
      "[CV] model__learning_rate=0.1, model__max_depth=3, model__n_estimators=300 \n",
      "[CV]  model__learning_rate=0.1, model__max_depth=3, model__n_estimators=300, score=0.7275682586331436, total=  44.0s\n",
      "[CV] model__learning_rate=0.1, model__max_depth=3, model__n_estimators=300 \n",
      "[CV]  model__learning_rate=0.1, model__max_depth=3, model__n_estimators=300, score=0.7599422282574232, total=  44.0s\n",
      "[CV] model__learning_rate=0.1, model__max_depth=3, model__n_estimators=300 \n",
      "[CV]  model__learning_rate=0.1, model__max_depth=3, model__n_estimators=300, score=0.7606702061516775, total=  43.8s\n",
      "[CV] model__learning_rate=0.1, model__max_depth=5, model__n_estimators=100 \n",
      "[CV]  model__learning_rate=0.1, model__max_depth=5, model__n_estimators=100, score=0.7555028292560636, total=  43.3s\n",
      "[CV] model__learning_rate=0.1, model__max_depth=5, model__n_estimators=100 \n",
      "[CV]  model__learning_rate=0.1, model__max_depth=5, model__n_estimators=100, score=0.7246935203954077, total=  43.4s\n",
      "[CV] model__learning_rate=0.1, model__max_depth=5, model__n_estimators=100 \n",
      "[CV]  model__learning_rate=0.1, model__max_depth=5, model__n_estimators=100, score=0.7583978946769966, total=  43.5s\n",
      "[CV] model__learning_rate=0.1, model__max_depth=5, model__n_estimators=100 \n",
      "[CV]  model__learning_rate=0.1, model__max_depth=5, model__n_estimators=100, score=0.7616691485337304, total=  43.2s\n",
      "[CV] model__learning_rate=0.1, model__max_depth=5, model__n_estimators=200 \n",
      "[CV]  model__learning_rate=0.1, model__max_depth=5, model__n_estimators=200, score=0.7467213679249924, total=  44.0s\n",
      "[CV] model__learning_rate=0.1, model__max_depth=5, model__n_estimators=200 \n",
      "[CV]  model__learning_rate=0.1, model__max_depth=5, model__n_estimators=200, score=0.7249058093182628, total=  46.2s\n",
      "[CV] model__learning_rate=0.1, model__max_depth=5, model__n_estimators=200 \n",
      "[CV]  model__learning_rate=0.1, model__max_depth=5, model__n_estimators=200, score=0.7554810630991923, total=  44.7s\n",
      "[CV] model__learning_rate=0.1, model__max_depth=5, model__n_estimators=200 \n",
      "[CV]  model__learning_rate=0.1, model__max_depth=5, model__n_estimators=200, score=0.7576817612290818, total=  45.8s\n",
      "[CV] model__learning_rate=0.1, model__max_depth=5, model__n_estimators=300 \n",
      "[CV]  model__learning_rate=0.1, model__max_depth=5, model__n_estimators=300, score=0.7392739147655865, total=  45.1s\n",
      "[CV] model__learning_rate=0.1, model__max_depth=5, model__n_estimators=300 \n",
      "[CV]  model__learning_rate=0.1, model__max_depth=5, model__n_estimators=300, score=0.7185482571899433, total=  45.4s\n",
      "[CV] model__learning_rate=0.1, model__max_depth=5, model__n_estimators=300 \n",
      "[CV]  model__learning_rate=0.1, model__max_depth=5, model__n_estimators=300, score=0.7498467510865913, total=  44.7s\n",
      "[CV] model__learning_rate=0.1, model__max_depth=5, model__n_estimators=300 \n",
      "[CV]  model__learning_rate=0.1, model__max_depth=5, model__n_estimators=300, score=0.7521263514513273, total=  44.9s\n",
      "[CV] model__learning_rate=1, model__max_depth=3, model__n_estimators=100 \n",
      "[CV]  model__learning_rate=1, model__max_depth=3, model__n_estimators=100, score=0.7111343952198708, total=  43.4s\n",
      "[CV] model__learning_rate=1, model__max_depth=3, model__n_estimators=100 \n",
      "[CV]  model__learning_rate=1, model__max_depth=3, model__n_estimators=100, score=0.6862571986900408, total=  43.5s\n",
      "[CV] model__learning_rate=1, model__max_depth=3, model__n_estimators=100 \n",
      "[CV]  model__learning_rate=1, model__max_depth=3, model__n_estimators=100, score=0.7223561555769848, total=  43.5s\n",
      "[CV] model__learning_rate=1, model__max_depth=3, model__n_estimators=100 \n",
      "[CV]  model__learning_rate=1, model__max_depth=3, model__n_estimators=100, score=0.7260106228283664, total=  43.8s\n",
      "[CV] model__learning_rate=1, model__max_depth=3, model__n_estimators=200 \n"
     ]
    },
    {
     "name": "stdout",
     "output_type": "stream",
     "text": [
      "[CV]  model__learning_rate=1, model__max_depth=3, model__n_estimators=200, score=0.7025165421021505, total=  43.7s\n",
      "[CV] model__learning_rate=1, model__max_depth=3, model__n_estimators=200 \n",
      "[CV]  model__learning_rate=1, model__max_depth=3, model__n_estimators=200, score=0.6831264381891189, total=  43.8s\n",
      "[CV] model__learning_rate=1, model__max_depth=3, model__n_estimators=200 \n",
      "[CV]  model__learning_rate=1, model__max_depth=3, model__n_estimators=200, score=0.7122615895174099, total=  43.7s\n",
      "[CV] model__learning_rate=1, model__max_depth=3, model__n_estimators=200 \n",
      "[CV]  model__learning_rate=1, model__max_depth=3, model__n_estimators=200, score=0.7145164076559585, total=  43.7s\n",
      "[CV] model__learning_rate=1, model__max_depth=3, model__n_estimators=300 \n",
      "[CV]  model__learning_rate=1, model__max_depth=3, model__n_estimators=300, score=0.6995142038529188, total=  44.0s\n",
      "[CV] model__learning_rate=1, model__max_depth=3, model__n_estimators=300 \n",
      "[CV]  model__learning_rate=1, model__max_depth=3, model__n_estimators=300, score=0.6783505752027588, total=  44.2s\n",
      "[CV] model__learning_rate=1, model__max_depth=3, model__n_estimators=300 \n",
      "[CV]  model__learning_rate=1, model__max_depth=3, model__n_estimators=300, score=0.70698188200599, total=  44.3s\n",
      "[CV] model__learning_rate=1, model__max_depth=3, model__n_estimators=300 \n",
      "[CV]  model__learning_rate=1, model__max_depth=3, model__n_estimators=300, score=0.7097742557861031, total=  45.5s\n",
      "[CV] model__learning_rate=1, model__max_depth=5, model__n_estimators=100 \n",
      "[CV]  model__learning_rate=1, model__max_depth=5, model__n_estimators=100, score=0.6755341225152229, total=  45.7s\n",
      "[CV] model__learning_rate=1, model__max_depth=5, model__n_estimators=100 \n",
      "[CV]  model__learning_rate=1, model__max_depth=5, model__n_estimators=100, score=0.6754667258524539, total=  45.5s\n",
      "[CV] model__learning_rate=1, model__max_depth=5, model__n_estimators=100 \n",
      "[CV]  model__learning_rate=1, model__max_depth=5, model__n_estimators=100, score=0.6912633906021425, total=  44.3s\n",
      "[CV] model__learning_rate=1, model__max_depth=5, model__n_estimators=100 \n",
      "[CV]  model__learning_rate=1, model__max_depth=5, model__n_estimators=100, score=0.7021380501198657, total=  44.7s\n",
      "[CV] model__learning_rate=1, model__max_depth=5, model__n_estimators=200 \n",
      "[CV]  model__learning_rate=1, model__max_depth=5, model__n_estimators=200, score=0.6707160610429896, total=  45.7s\n",
      "[CV] model__learning_rate=1, model__max_depth=5, model__n_estimators=200 \n",
      "[CV]  model__learning_rate=1, model__max_depth=5, model__n_estimators=200, score=0.6776752595391526, total=  45.4s\n",
      "[CV] model__learning_rate=1, model__max_depth=5, model__n_estimators=200 \n",
      "[CV]  model__learning_rate=1, model__max_depth=5, model__n_estimators=200, score=0.6857313052725644, total=  46.3s\n",
      "[CV] model__learning_rate=1, model__max_depth=5, model__n_estimators=200 \n",
      "[CV]  model__learning_rate=1, model__max_depth=5, model__n_estimators=200, score=0.6909747505559601, total=  45.6s\n",
      "[CV] model__learning_rate=1, model__max_depth=5, model__n_estimators=300 \n",
      "[CV]  model__learning_rate=1, model__max_depth=5, model__n_estimators=300, score=0.6690929145254578, total=  45.3s\n",
      "[CV] model__learning_rate=1, model__max_depth=5, model__n_estimators=300 \n",
      "[CV]  model__learning_rate=1, model__max_depth=5, model__n_estimators=300, score=0.6766045215900568, total=  44.9s\n",
      "[CV] model__learning_rate=1, model__max_depth=5, model__n_estimators=300 \n",
      "[CV]  model__learning_rate=1, model__max_depth=5, model__n_estimators=300, score=0.6774022906065887, total=  44.8s\n",
      "[CV] model__learning_rate=1, model__max_depth=5, model__n_estimators=300 \n",
      "[CV]  model__learning_rate=1, model__max_depth=5, model__n_estimators=300, score=0.6901798970954502, total=  44.7s\n"
     ]
    },
    {
     "name": "stderr",
     "output_type": "stream",
     "text": [
      "[Parallel(n_jobs=1)]: Done  72 out of  72 | elapsed: 63.7min finished\n"
     ]
    },
    {
     "name": "stdout",
     "output_type": "stream",
     "text": [
      "{'model__learning_rate': 0.1, 'model__max_depth': 3, 'model__n_estimators': 200}\n",
      "0.752898632507\n"
     ]
    }
   ],
   "source": [
    "# для ускорения счета\n",
    "cv = StratifiedKFold(n_splits=4, shuffle=True, random_state=9)\n",
    "\n",
    "params = {\n",
    "    'model__n_estimators': [ 100, 200, 300],\n",
    "    'model__learning_rate': [ 0.01, 0.1, 1 ],\n",
    "    'model__max_depth': [ 3, 5 ]\n",
    "    }\n",
    "model = XGBClassifier(learning_rate=0.1, n_estimators=100, random_state=9, n_jobs=-1)\n",
    "pipeline = get_pipeline(model, selector='correlation', sel_params={ 'n_top': 30 })\n",
    "grid = GridSearchCV(pipeline, params, scoring='roc_auc', cv=cv, verbose=10)\n",
    "grid.fit(X_train, y_train)\n",
    "print(grid.best_params_)\n",
    "print(grid.best_score_)\n",
    "\n",
    "best_model = grid.best_estimator_"
   ]
  },
  {
   "cell_type": "markdown",
   "metadata": {},
   "source": [
    "**Выводы:**\n",
    "Изначально параметры были выбраны близкими к оптимальным"
   ]
  },
  {
   "cell_type": "markdown",
   "metadata": {},
   "source": [
    "7\\. Предложите методику оценки того, какие признаки внесли наибольший вклад в модель (например, это могут быть веса в случае регрессии, а также большое количество моделей реализуют метод `feature_importances_` - оценка важности признаков). На основе предложенной методики проанализируйте, какие признаки внесли больший вклад в модель, а какие меньший?"
   ]
  },
  {
   "cell_type": "code",
   "execution_count": 82,
   "metadata": {},
   "outputs": [
    {
     "name": "stdout",
     "output_type": "stream",
     "text": [
      "Лучшие признаки: [('Var115', 0.18043685), ('Var102', 0.17378917), ('Var173', 0.11965812), ('Var63', 0.11016145), ('Var12', 0.10731244)]\n",
      "Худшие признаки: [('Var204_xSqs', 0.0), ('Var206_oZyB', 0.0), ('Var207_wXfldy7', 0.0), ('Var219_tdJW_Pm', 0.0), ('Var222__XSRDbC', 0.0)]\n"
     ]
    }
   ],
   "source": [
    "cols = best_model.named_steps['feature_selection'].new_cols\n",
    "num_col_names = X_train.columns.values[:190]\n",
    "cat_col_names = best_model.named_steps['processing'] \\\n",
    "                      .transformer_list[1][1] \\\n",
    "                      .named_steps['encoding'] \\\n",
    "                      .dummy_columns\n",
    "col_names = np.concatenate((num_col_names, cat_col_names))[cols]\n",
    "            \n",
    "importances = best_model.named_steps['model'].feature_importances_\n",
    "feature_stats = dict(zip(col_names, importances))\n",
    "\n",
    "feature_stats = list(sorted(feature_stats.items(), key=lambda kv: kv[1], reverse=True))\n",
    "best_features = feature_stats[:5]\n",
    "worst_features = feature_stats[-5:]\n",
    "\n",
    "print('Лучшие признаки:', best_features)\n",
    "print('Худшие признаки:', worst_features)"
   ]
  },
  {
   "cell_type": "markdown",
   "metadata": {},
   "source": [
    "8\\. Напоследок давайте посмотрим на объекты. На каких объектах достигается наибольшая ошибка классификации? Есть ли межу этими объектами что-то общее? Видны ли какие-либо закономерности? Предположите, почему наибольшая ошибка достигается именно на этих объектах. В данном случае \"наибольшую\" ошибку можно понимать как отнесение объекта с чужому классу с большой долей уверенности (с высокой вероятностью)."
   ]
  },
  {
   "cell_type": "code",
   "execution_count": 112,
   "metadata": {
    "collapsed": true
   },
   "outputs": [],
   "source": [
    "y_check = best_model.predict_proba(X_train)[:, 1]\n",
    "y_err = np.abs(y_check - y_train)"
   ]
  },
  {
   "cell_type": "code",
   "execution_count": 113,
   "metadata": {},
   "outputs": [
    {
     "name": "stdout",
     "output_type": "stream",
     "text": [
      "1783\n"
     ]
    },
    {
     "data": {
      "image/png": "[encoded data removed]",
      "text/plain": [
       "<matplotlib.figure.Figure at 0x1fbb6121438>"
      ]
     },
     "metadata": {},
     "output_type": "display_data"
    }
   ],
   "source": [
    "errs = dict(zip(X_train.index.values, y_err))\n",
    "errs = list(sorted(errs.items(), key=lambda kv: kv[1], reverse=True))\n",
    "\n",
    "most_errs = list(filter(lambda x: x[1]>0.5, errs))\n",
    "print(len(most_errs))\n",
    "\n",
    "x_err, y_err = zip(*errs)\n",
    "\n",
    "plt.plot(y_err)\n",
    "plt.show()"
   ]
  },
  {
   "cell_type": "markdown",
   "metadata": {},
   "source": [
    "Видно, что наибольшая ошибка достигается на некоторых 1783 объектах, на других же она резко меньше.\n",
    "Посмотрим, чем объекты этих двух групп существенно отличаются."
   ]
  },
  {
   "cell_type": "code",
   "execution_count": 114,
   "metadata": {
    "scrolled": false
   },
   "outputs": [
    {
     "name": "stdout",
     "output_type": "stream",
     "text": [
      "(25749, 230) (1783, 230) (23966, 230)\n"
     ]
    }
   ],
   "source": [
    "x_err, y_err = zip(*most_errs)\n",
    "\n",
    "X_err  = X_train.ix[list(x_err)]\n",
    "X_norm = X_train.ix[list(set(X_train.index) - set(x_err))]\n",
    "\n",
    "print(X_train.shape, X_err.shape, X_norm.shape)"
   ]
  },
  {
   "cell_type": "code",
   "execution_count": 121,
   "metadata": {
    "scrolled": true
   },
   "outputs": [
    {
     "name": "stdout",
     "output_type": "stream",
     "text": [
      "(1783, 30) (23966, 30)\n"
     ]
    }
   ],
   "source": [
    "preproc_pipeline = make_pipeline(best_model.named_steps['processing'],\n",
    "                                 best_model.named_steps['feature_selection'])\n",
    "X_perr  = preproc_pipeline.transform(X_err)\n",
    "X_pnorm = preproc_pipeline.transform(X_norm)\n",
    "\n",
    "print(X_perr.shape, X_pnorm.shape)"
   ]
  },
  {
   "cell_type": "code",
   "execution_count": 126,
   "metadata": {
    "scrolled": true
   },
   "outputs": [
    {
     "data": {
      "text/plain": [
       "172     0.313594\n",
       "6       0.271165\n",
       "101     0.266671\n",
       "62      0.252948\n",
       "63      0.249419\n",
       "11      0.223478\n",
       "131     0.213975\n",
       "114     0.201261\n",
       "1370    0.149825\n",
       "1665    0.146107\n",
       "2813    0.120421\n",
       "399     0.110820\n",
       "2835    0.107653\n",
       "1587    0.101546\n",
       "2799    0.091236\n",
       "1614    0.090889\n",
       "2769    0.090147\n",
       "2323    0.090147\n",
       "1632    0.079208\n",
       "1633    0.079208\n",
       "1590    0.073320\n",
       "1579    0.062536\n",
       "379     0.061657\n",
       "1602    0.061081\n",
       "1608    0.058943\n",
       "2359    0.047005\n",
       "2689    0.047005\n",
       "798     0.047005\n",
       "2322    0.030840\n",
       "304     0.029185\n",
       "dtype: float64"
      ]
     },
     "execution_count": 126,
     "metadata": {},
     "output_type": "execute_result"
    }
   ],
   "source": [
    "mean_diff = (X_perr.mean(axis=0) - X_pnorm.mean(axis=0)).abs().sort_values(ascending=False)\n",
    "mean_diff"
   ]
  },
  {
   "cell_type": "markdown",
   "metadata": {},
   "source": [
    "Видно, что на ряде признаков средние разнятся существенно"
   ]
  },
  {
   "cell_type": "code",
   "execution_count": 146,
   "metadata": {
    "scrolled": true
   },
   "outputs": [
    {
     "data": {
      "image/png": "[encoded data removed]",
      "text/plain": [
       "<matplotlib.figure.Figure at 0x1fbb61d02b0>"
      ]
     },
     "metadata": {},
     "output_type": "display_data"
    }
   ],
   "source": [
    "fig, axes = plt.subplots(6, 5, figsize=(16, 20))\n",
    "\n",
    "legend_lines = [Line2D([0], [0], color='blue', lw=4),\n",
    "                Line2D([0], [0], color='red', lw=4)]\n",
    "plt.figlegend(legend_lines, ['Хорошие', 'Плохие'], loc = 'upper center', ncol=6, labelspacing=0. )\n",
    "\n",
    "for idx, col in enumerate(X_perr.columns):\n",
    "    i = idx//5\n",
    "    j = idx%5\n",
    "    ax = axes[i, j]\n",
    "    ax.text(.5,.9, col, horizontalalignment='center', transform=ax.transAxes)\n",
    "\n",
    "    X_perr[col].hist(ax = ax, bins=30, color='red', alpha=0.7, density=True)\n",
    "    X_pnorm[col].hist(ax = ax, bins=30, color='blue', alpha=0.7, density=True)\n",
    "\n",
    "plt.show()"
   ]
  },
  {
   "cell_type": "code",
   "execution_count": 145,
   "metadata": {},
   "outputs": [
    {
     "name": "stdout",
     "output_type": "stream",
     "text": [
      "5.293325855300056\n",
      "5.489985813235417\n"
     ]
    }
   ],
   "source": [
    "init_col_names = list(set([ col.split('_')[0] for col in col_names ]))\n",
    "\n",
    "err_nans  = X_err[init_col_names].isnull().sum(axis=1)\n",
    "norm_nans = X_norm[init_col_names].isnull().sum(axis=1)\n",
    "\n",
    "print(err_nans.mean())\n",
    "print(norm_nans.mean())"
   ]
  },
  {
   "cell_type": "markdown",
   "metadata": {},
   "source": [
    "9\\. По итогам проведенных экспериментов постройте финальную решение - модель с наилучшим качеством. Укажите, какие преобразования данных, параметры и пр. вы выбрали для построения финальной модели."
   ]
  },
  {
   "cell_type": "markdown",
   "metadata": {},
   "source": [
    "**Финальная модель:**\n",
    "Модель с наилучшим качеством получается следующим образом:\n",
    "- фильтрация выбросов\n",
    "- 50% undersample-инг\n",
    "- Заполнение пропущенных значений средним\n",
    "- dummy-энкодинг категориальных переменных\n",
    "- отбор признаков по корреляции с целевой переменной с максимальным числом признаков равным 30\n",
    "- классификатог - XGBClassifier с n_estimators=120 и learning_rate=0.1"
   ]
  },
  {
   "cell_type": "code",
   "execution_count": 161,
   "metadata": {},
   "outputs": [
    {
     "name": "stdout",
     "output_type": "stream",
     "text": [
      "filtering outliers...\n",
      "finished:  25749\n"
     ]
    },
    {
     "name": "stderr",
     "output_type": "stream",
     "text": [
      "C:\\ProgramData\\Anaconda3\\lib\\site-packages\\ipykernel_launcher.py:266: DeprecationWarning: \n",
      ".ix is deprecated. Please use\n",
      ".loc for label based indexing or\n",
      ".iloc for positional indexing\n",
      "\n",
      "See the documentation here:\n",
      "http://pandas.pydata.org/pandas-docs/stable/indexing.html#ix-indexer-is-deprecated\n"
     ]
    },
    {
     "name": "stdout",
     "output_type": "stream",
     "text": [
      "0.827504393946\n"
     ]
    }
   ],
   "source": [
    "# load data\n",
    "X_train, X_hold, X_test, y_train, y_hold = load_data()\n",
    "X = pd.concat([X_train, X_hold], axis=0)\n",
    "y = pd.concat([y_train, y_hold], axis=0)\n",
    "\n",
    "# filter outliers\n",
    "X_train, y_train = filter_outliers(X_train, y_train, X_train.columns[:190], 0.01)\n",
    "\n",
    "# undersample\n",
    "X_train, y_train = undersample(X_train, y_train, 0.5)\n",
    "\n",
    "# model & pipeline\n",
    "model = XGBClassifier(learning_rate=0.1, n_estimators=120, random_state=9, n_jobs=-1)\n",
    "pipeline = get_pipeline(model)\n",
    "\n",
    "pipeline.fit(X, y)\n",
    "\n",
    "y_pred = pipeline.predict_proba(X)[:, 1]\n",
    "score = roc_auc_score(y, y_pred)\n",
    "\n",
    "print(score)"
   ]
  },
  {
   "cell_type": "markdown",
   "metadata": {},
   "source": [
    "10\\. Подумайте, можно ли еще улучшить модель? Что для этого можно сделать? "
   ]
  },
  {
   "cell_type": "markdown",
   "metadata": {},
   "source": [
    "Модель можно было бы улучшить, посмотрев подробенее на признаки/пары признаков. Мы видели ранее, что некоторые вещественные признаки на самом деле имеют небольшое число разлинчых значений: 2, 3,..., и следовательно, могут быть категориальными. Кроме того, на графиках значений пар признаков видны некоторые неслучайные паттерны: данные располагаются на прямых y = kx и т.п. Возможно, качество улучшилось, если бы мы ввели признаки-отношения и пр."
   ]
  },
  {
   "cell_type": "code",
   "execution_count": null,
   "metadata": {
    "collapsed": true
   },
   "outputs": [],
   "source": []
  }
 ],
 "metadata": {
  "kernelspec": {
   "display_name": "Python 3",
   "language": "python",
   "name": "python3"
  },
  "language_info": {
   "codemirror_mode": {
    "name": "ipython",
    "version": 3
   },
   "file_extension": ".py",
   "mimetype": "text/x-python",
   "name": "python",
   "nbconvert_exporter": "python",
   "pygments_lexer": "ipython3",
   "version": "3.6.3"
  }
 },
 "nbformat": 4,
 "nbformat_minor": 1
}
